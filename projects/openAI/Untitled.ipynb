{
 "cells": [
  {
   "cell_type": "code",
   "execution_count": 1,
   "metadata": {
    "collapsed": false
   },
   "outputs": [
    {
     "name": "stderr",
     "output_type": "stream",
     "text": [
      "/Users/thalles/anaconda/lib/python2.7/site-packages/matplotlib/font_manager.py:273: UserWarning: Matplotlib is building the font cache using fc-list. This may take a moment.\n",
      "  warnings.warn('Matplotlib is building the font cache using fc-list. This may take a moment.')\n"
     ]
    },
    {
     "name": "stdout",
     "output_type": "stream",
     "text": [
      "Done\n"
     ]
    }
   ],
   "source": [
    "import gym\n",
    "import pdb\n",
    "from time import sleep\n",
    "import pdb\n",
    "import numpy as np\n",
    "import matplotlib.pyplot as plt\n",
    "import tensorflow as tf\n",
    "import tensorflow.contrib.slim as slim\n",
    "from scipy import misc\n",
    "from skimage import color\n",
    "from collections import deque\n",
    "import random\n",
    "%matplotlib inline\n",
    "print \"Done\""
   ]
  },
  {
   "cell_type": "code",
   "execution_count": 2,
   "metadata": {
    "collapsed": false
   },
   "outputs": [],
   "source": [
    "PIXEL_DEPTH=255.\n",
    "IMAGE_SIZE=84\n",
    "def process_input(img):\n",
    "    out = img[:171, :] # get only the playing area of the image\n",
    "    out = misc.imresize(out, (IMAGE_SIZE,IMAGE_SIZE))\n",
    "    r, g, b = out[:,:,0], out[:,:,1], out[:,:,2]\n",
    "    out = r * (299./1000.) + r * (587./1000.) + b * (114./1000.)\n",
    "    out = (out - (PIXEL_DEPTH / 2.0)) / PIXEL_DEPTH\n",
    "    \n",
    "    return out"
   ]
  },
  {
   "cell_type": "code",
   "execution_count": 3,
   "metadata": {
    "collapsed": true
   },
   "outputs": [],
   "source": [
    "GAME_NAME=\"MsPacman-v0\""
   ]
  },
  {
   "cell_type": "code",
   "execution_count": 4,
   "metadata": {
    "collapsed": false
   },
   "outputs": [
    {
     "name": "stderr",
     "output_type": "stream",
     "text": [
      "[2016-10-05 22:33:55,266] Making new env: MsPacman-v0\n"
     ]
    },
    {
     "name": "stdout",
     "output_type": "stream",
     "text": [
      "Image origial shape: (210, 160, 3)\n",
      "New image shape: (84, 84)\n"
     ]
    },
    {
     "data": {
      "text/plain": [
       "<matplotlib.image.AxesImage at 0x119fde7d0>"
      ]
     },
     "execution_count": 4,
     "metadata": {},
     "output_type": "execute_result"
    },
    {
     "data": {
      "image/png": "[encoded data removed]",
      "text/plain": [
       "<matplotlib.figure.Figure at 0x1175d29d0>"
      ]
     },
     "metadata": {},
     "output_type": "display_data"
    }
   ],
   "source": [
    "env = gym.make(GAME_NAME)\n",
    "env.reset()\n",
    "\n",
    "img = env.render('rgb_array')\n",
    "print \"Image origial shape:\", img.shape\n",
    "# plt.imshow(img, cmap='gray', interpolation='nearest')\n",
    "\n",
    "out = process_input(img)\n",
    "print \"New image shape:\", out.shape\n",
    "plt.imshow(out.squeeze(), cmap='gray', interpolation='nearest')"
   ]
  },
  {
   "cell_type": "code",
   "execution_count": 5,
   "metadata": {
    "collapsed": false
   },
   "outputs": [],
   "source": [
    "NUM_ACTIONS = env.action_space.n\n",
    "NUM_FRAMES_PER_STATE=4"
   ]
  },
  {
   "cell_type": "code",
   "execution_count": 6,
   "metadata": {
    "collapsed": false
   },
   "outputs": [],
   "source": [
    "SEED = 999\n",
    "\n",
    "def weight_variable(name, shape):\n",
    "  return tf.get_variable(name=name, shape=shape, initializer=tf.contrib.layers.xavier_initializer(seed=SEED))\n",
    "\n",
    "def weight_conv_variable(name, shape):\n",
    "  return tf.get_variable(name=name, shape=shape, \n",
    "                         initializer=tf.contrib.layers.xavier_initializer_conv2d(seed=SEED))\n",
    "\n",
    "def bias_variable(shape):\n",
    "  initial = tf.zeros_initializer(shape=shape, dtype=tf.float32)\n",
    "  return tf.Variable(initial)\n",
    "\n",
    "def conv2d(x, W):\n",
    "  return tf.nn.conv2d(x, W, strides=[1, 1, 1, 1], padding='SAME')\n",
    "\n",
    "def max_pool(x, strides=[1, 2, 2, 1]):\n",
    "  return tf.nn.max_pool(x, ksize=[1, 2, 2, 1],\n",
    "                        strides=strides, padding='SAME')"
   ]
  },
  {
   "cell_type": "code",
   "execution_count": 7,
   "metadata": {
    "collapsed": false
   },
   "outputs": [],
   "source": [
    "CONV1_DEPTH=16\n",
    "W_conv1 = weight_conv_variable(\"conv1\", [8, 8, NUM_FRAMES_PER_STATE, CONV1_DEPTH])\n",
    "b_conv1 = bias_variable([CONV1_DEPTH])\n",
    "\n",
    "CONV2_DEPTH=32\n",
    "W_conv2 = weight_conv_variable(\"conv2\", [4, 4, CONV1_DEPTH, CONV2_DEPTH])\n",
    "b_conv2 = bias_variable([CONV2_DEPTH])\n",
    "\n",
    "FC1_SIZE = 255\n",
    "W_fc1 = weight_variable(\"fc1\", [11 * 11 * CONV2_DEPTH, FC1_SIZE])\n",
    "b_fc1 = bias_variable([FC1_SIZE])\n",
    "\n",
    "out_layer = weight_variable(\"out1\", [FC1_SIZE, NUM_ACTIONS])\n",
    "bias_layer = bias_variable([NUM_ACTIONS])"
   ]
  },
  {
   "cell_type": "code",
   "execution_count": 8,
   "metadata": {
    "collapsed": true
   },
   "outputs": [],
   "source": [
    "def model(inputs):\n",
    "    # convolves 16 8×8 filters with stride 4\n",
    "    h_conv1 = tf.nn.relu(conv2d(inputs, W_conv1) + b_conv1)\n",
    "    h_pool1 = max_pool(h_conv1, strides=[1, 4, 4, 1])\n",
    "\n",
    "    h_conv2 = tf.nn.relu(conv2d(h_pool1, W_conv2) + b_conv2)\n",
    "    h_pool2 = max_pool(h_conv2, strides=[1, 2, 2, 1])\n",
    "\n",
    "    shape = h_pool2.get_shape().as_list()\n",
    "    h_pool_flat = tf.reshape(h_pool2, [-1, shape[1] * shape[2] * shape[3]])\n",
    "\n",
    "    # First fully connected layer\n",
    "    h_fc1 = tf.nn.relu(tf.matmul(h_pool_flat, W_fc1) + b_fc1)\n",
    "    q_actions = tf.matmul(h_fc1, out_layer) + bias_layer\n",
    "\n",
    "    return q_actions"
   ]
  },
  {
   "cell_type": "code",
   "execution_count": 9,
   "metadata": {
    "collapsed": true
   },
   "outputs": [],
   "source": [
    "def print_state(state):\n",
    "    assert state.shape == (IMAGE_SIZE, IMAGE_SIZE, 4)\n",
    "    f, axarr = plt.subplots(1, 4, figsize=(14,14))\n",
    "    for i in range(4):\n",
    "        img = state[:,:,i]\n",
    "        axarr[i].imshow(img, cmap=plt.cm.Greys);\n",
    "        axarr[i].set_title('Image: ' + str(i))\n",
    "    plt.show()"
   ]
  },
  {
   "cell_type": "code",
   "execution_count": 34,
   "metadata": {
    "collapsed": false
   },
   "outputs": [],
   "source": [
    "class LearningAgent:\n",
    "    def __init__(self, env, is_training=True):\n",
    "        # game variables and constants\n",
    "        self._env = env\n",
    "        self.state = None\n",
    "        self.ACTION_NAMES = self._env.get_action_meanings()\n",
    "        self.NUM_ACTIONS = env.action_space.n\n",
    "        self.action = 0 # default first action\n",
    "        self.total_reward = 0\n",
    "        self.rewards_per_game = []\n",
    "        self.is_training = is_training\n",
    "        \n",
    "        # AI variables and constants\n",
    "        self.REPLAY_MEN = 10000 # The paper remember the 1.000.000 most recent frames\n",
    "        self.exp_replay_list = deque(maxlen=self.REPLAY_MEN)\n",
    "        self.SKIP_FRAME_RATE = 4\n",
    "        self.NUM_FRAMES_PER_STATE = 4\n",
    "        self.OBSERVATION_STEPS = 500 # Papers value: 50000\n",
    "        \n",
    "        # Q LEARNING variables and constants\n",
    "        self.INITIAL_EXPLORATION_PROB = 1.0 # Exploration probability\n",
    "        self.FINAL_EXPLORATION_PROB = 0.1\n",
    "        self.learning_rate = 0.00025 # lr from the paper 0.00025\n",
    "        self.discount_factor = 0.99 # dicount factor from the paper 0.99\n",
    "        self.MINI_BATCH_SIZE = 35 # minibatch size from the paper 35\n",
    "        \n",
    "        # Tensorflow variables\n",
    "        self._session = tf.Session() \n",
    "        self._input = tf.placeholder(tf.float32, shape=(None,) + (IMAGE_SIZE,IMAGE_SIZE,self.NUM_FRAMES_PER_STATE), name=\"input_images\")\n",
    "        self._target = tf.placeholder(tf.float32, [None], name=\"input_targets\")\n",
    "        self._action = tf.placeholder(tf.float32, [None, self.NUM_ACTIONS], name=\"input_actions\")\n",
    "        \n",
    "        # Create Deep model\n",
    "        self.model_output = model(self._input)\n",
    "        \n",
    "        # train variables\n",
    "        readout_action = tf.reduce_sum(tf.mul(self.model_output, self._action), reduction_indices=1)\n",
    "        self.loss = tf.reduce_mean(tf.square(self._target - readout_action))\n",
    "        self.train_operation = tf.train.RMSPropOptimizer(self.learning_rate, momentum=0.95, epsilon=0.01).minimize(self.loss)\n",
    "        \n",
    "        self._session.run(tf.initialize_all_variables())\n",
    "    \n",
    "    def to_one_hot_vec(self, actions):\n",
    "        one_hot = np.zeros((self.MINI_BATCH_SIZE, self.NUM_ACTIONS))\n",
    "        one_hot[np.arange(self.MINI_BATCH_SIZE), actions] = 1\n",
    "        return one_hot\n",
    "\n",
    "    def train(self):\n",
    "        # Sample random minibatch of transitions (s_i, a_i, r_i, s_i+1)\n",
    "        # from the experience replay list\n",
    "        mini_batch = random.sample(self.exp_replay_list, self.MINI_BATCH_SIZE)\n",
    "        previous_states = [d[0] for d in mini_batch]\n",
    "        actions = [d[1] for d in mini_batch]\n",
    "        rewards = [d[2] for d in mini_batch]\n",
    "        current_states = [d[3] for d in mini_batch]\n",
    "        \n",
    "        # clip rewards between -1 and 1\n",
    "        rewards = np.clip(rewards, a_min=0, a_max=1)\n",
    "        \n",
    "        agents_expected_reward = []\n",
    "        # this gives us the agents expected reward for each action we might take\n",
    "        agents_reward_per_action = self._session.run(self.model_output, feed_dict={self._input: current_states})\n",
    "        \n",
    "        for i in range(len(mini_batch)):\n",
    "            if mini_batch[i][4]:\n",
    "                # this was a terminal frame so there is no future reward...\n",
    "                agents_expected_reward.append(rewards[i])\n",
    "            else:\n",
    "                # compute r_j + γ max Q(s_j, a; θ), \n",
    "                #    where:\n",
    "                #      s_j is the current state\n",
    "                #      θ are the CNNs learned weights\n",
    "                agents_expected_reward.append(\n",
    "                    rewards[i] + self.discount_factor * np.max(agents_reward_per_action[i]))\n",
    "        \n",
    "        print agents_expected_reward.shape\n",
    "        print agents_expected_reward\n",
    "        \n",
    "        # Perform a gradient descent step on (y_j − Q(φ_j, a_j; θ))^2\n",
    "        _, loss = self._session.run([self.train_operation, self.loss], feed_dict={\n",
    "            self._input: previous_states,\n",
    "            self._action: self.to_one_hot_vec(actions),\n",
    "            self._target: agents_expected_reward})\n",
    "        \n",
    "        return loss\n",
    "        \n",
    "    def reset_env(self):\n",
    "        self.rewards_per_game.append(self.total_reward)\n",
    "        self.total_reward = 0\n",
    "        return self._env.reset()\n",
    "\n",
    "    def get_random_action(self):\n",
    "        return self._env.action_space.sample()\n",
    "\n",
    "    def get_action_name(self, action):\n",
    "        return self.ACTION_NAMES[action]\n",
    "    \n",
    "    # for the first step, the state is the same state repeated [STATE_FRAMES] times\n",
    "    def game_initial_setup(self):\n",
    "        observations = process_input(self.reset_env())\n",
    "        self.state = np.stack(tuple(observations for _ in range(self.NUM_FRAMES_PER_STATE)), axis=2)\n",
    "        print \"First state:\", self.state.shape\n",
    "        \n",
    "    \n",
    "    def get_next_action(self, step):\n",
    "        # With probability p select a random action (a) otherwise select a = maxaQ∗(φ(st), a; θ)\n",
    "        p = self.get_exploration_probability(step)\n",
    "        \n",
    "        if step % 70 == 0:\n",
    "            print \"Epsilon:\", p\n",
    "\n",
    "        if random.random() < p:\n",
    "            out = self.get_random_action()\n",
    "        else:\n",
    "            current_state = np.expand_dims(self.state, axis=0)\n",
    "            q_action = self._session.run(self.model_output, feed_dict={self._input: current_state})\n",
    "            out = np.argmax(q_action)\n",
    "        return out\n",
    "    \n",
    "    # perform a linear decay operation\n",
    "    def get_exploration_probability(self, global_step):\n",
    "        return (self.FINAL_EXPLORATION_PROB + \n",
    "                max(0, (self.INITIAL_EXPLORATION_PROB - self.FINAL_EXPLORATION_PROB) * \n",
    "                    (self.REPLAY_MEN - max(0, global_step - self.OBSERVATION_STEPS)) / self.REPLAY_MEN))\n",
    "    \n",
    "    def update(self, step):\n",
    "        new_observation, reward, done, info = None, None, None, None\n",
    "        self._env.render()\n",
    "        \n",
    "        if step % self.SKIP_FRAME_RATE == 0:    \n",
    "            self.action = self.get_next_action(step)\n",
    "\n",
    "        # Execute action a_t in emulator and observe reward r_t and image x_t+1\n",
    "        new_observation, reward, done, info = self._env.step(self.action)\n",
    "        self.total_reward += reward\n",
    "\n",
    "        # Set s_t+1 = s_t, a_t, x_t+1 and preprocess s_t+1 = φ(st+1)\n",
    "        new_observation = process_input(new_observation)\n",
    "        new_observation = np.expand_dims(new_observation, axis=2)\n",
    "\n",
    "        # store transition (φ_t, a_t, r_t, φ_t+1) in D (experience decay collection)\n",
    "        new_state = np.append(self.state[:, :, 1:], new_observation, axis=2)\n",
    "        self.exp_replay_list.append([self.state, self.action, reward, new_state, done])\n",
    "\n",
    "        # only train if done observing\n",
    "        if len(self.exp_replay_list) > self.OBSERVATION_STEPS and self.is_training:\n",
    "            # Perform a gradient descent step on (y_j −Q(φ_j, a_j; θ))^2 \n",
    "            loss = self.train()\n",
    "\n",
    "            if step % 70 == 0:\n",
    "                print \"Step: \", step, \"Action:\", self.get_action_name(self.action), \"Loss:\", loss\n",
    "\n",
    "            #print_state(self.exp_replay_list[self.count][0])\n",
    "            #print\"----------------------\"\n",
    "            #print_state(self.exp_replay_list[self.count][3])  \n",
    "            #self.count += 1\n",
    "\n",
    "        self.state = new_state\n",
    "        \n",
    "        if done:\n",
    "            self.reset_env()\n",
    "            return done"
   ]
  },
  {
   "cell_type": "code",
   "execution_count": 35,
   "metadata": {
    "collapsed": false
   },
   "outputs": [
    {
     "name": "stdout",
     "output_type": "stream",
     "text": [
      "First state: (84, 84, 4)\n"
     ]
    }
   ],
   "source": [
    "agent = LearningAgent(env)\n",
    "agent.game_initial_setup()"
   ]
  },
  {
   "cell_type": "code",
   "execution_count": 36,
   "metadata": {
    "collapsed": false
   },
   "outputs": [],
   "source": [
    "# Add ops to save and restore all the variables.\n",
    "#saver = tf.train.Saver()\n",
    "#save_path = saver.save(agent._session, \"./model/model.ckpt\")"
   ]
  },
  {
   "cell_type": "code",
   "execution_count": 37,
   "metadata": {
    "collapsed": false
   },
   "outputs": [
    {
     "name": "stdout",
     "output_type": "stream",
     "text": [
      "Epsilon: 1.0\n",
      "Epsilon: 1.0\n",
      "Epsilon: 1.0\n",
      "Epsilon: 1.0\n",
      "Episode finished after 434 timesteps\n"
     ]
    },
    {
     "ename": "AttributeError",
     "evalue": "'list' object has no attribute 'shape'",
     "output_type": "error",
     "traceback": [
      "\u001b[0;31m---------------------------------------------------------------------------\u001b[0m",
      "\u001b[0;31mAttributeError\u001b[0m                            Traceback (most recent call last)",
      "\u001b[0;32m<ipython-input-37-ffc9729753dc>\u001b[0m in \u001b[0;36m<module>\u001b[0;34m()\u001b[0m\n\u001b[1;32m      4\u001b[0m \u001b[0;32mfor\u001b[0m \u001b[0mstep\u001b[0m \u001b[0;32min\u001b[0m \u001b[0mrange\u001b[0m\u001b[0;34m(\u001b[0m\u001b[0mTOTAL_TRAIN_STEPS\u001b[0m\u001b[0;34m)\u001b[0m\u001b[0;34m:\u001b[0m\u001b[0;34m\u001b[0m\u001b[0m\n\u001b[1;32m      5\u001b[0m \u001b[0;34m\u001b[0m\u001b[0m\n\u001b[0;32m----> 6\u001b[0;31m     \u001b[0mdone\u001b[0m \u001b[0;34m=\u001b[0m \u001b[0magent\u001b[0m\u001b[0;34m.\u001b[0m\u001b[0mupdate\u001b[0m\u001b[0;34m(\u001b[0m\u001b[0mstep\u001b[0m\u001b[0;34m)\u001b[0m\u001b[0;34m\u001b[0m\u001b[0m\n\u001b[0m\u001b[1;32m      7\u001b[0m \u001b[0;34m\u001b[0m\u001b[0m\n\u001b[1;32m      8\u001b[0m     \u001b[0;31m# sleep(DELAY)\u001b[0m\u001b[0;34m\u001b[0m\u001b[0;34m\u001b[0m\u001b[0m\n",
      "\u001b[0;32m<ipython-input-34-0be6d59d046b>\u001b[0m in \u001b[0;36mupdate\u001b[0;34m(self, step)\u001b[0m\n\u001b[1;32m    146\u001b[0m         \u001b[0;32mif\u001b[0m \u001b[0mlen\u001b[0m\u001b[0;34m(\u001b[0m\u001b[0mself\u001b[0m\u001b[0;34m.\u001b[0m\u001b[0mexp_replay_list\u001b[0m\u001b[0;34m)\u001b[0m \u001b[0;34m>\u001b[0m \u001b[0mself\u001b[0m\u001b[0;34m.\u001b[0m\u001b[0mOBSERVATION_STEPS\u001b[0m \u001b[0;32mand\u001b[0m \u001b[0mself\u001b[0m\u001b[0;34m.\u001b[0m\u001b[0mis_training\u001b[0m\u001b[0;34m:\u001b[0m\u001b[0;34m\u001b[0m\u001b[0m\n\u001b[1;32m    147\u001b[0m             \u001b[0;31m# Perform a gradient descent step on (y_j −Q(φ_j, a_j; θ))^2\u001b[0m\u001b[0;34m\u001b[0m\u001b[0;34m\u001b[0m\u001b[0m\n\u001b[0;32m--> 148\u001b[0;31m             \u001b[0mloss\u001b[0m \u001b[0;34m=\u001b[0m \u001b[0mself\u001b[0m\u001b[0;34m.\u001b[0m\u001b[0mtrain\u001b[0m\u001b[0;34m(\u001b[0m\u001b[0;34m)\u001b[0m\u001b[0;34m\u001b[0m\u001b[0m\n\u001b[0m\u001b[1;32m    149\u001b[0m \u001b[0;34m\u001b[0m\u001b[0m\n\u001b[1;32m    150\u001b[0m             \u001b[0;32mif\u001b[0m \u001b[0mstep\u001b[0m \u001b[0;34m%\u001b[0m \u001b[0;36m70\u001b[0m \u001b[0;34m==\u001b[0m \u001b[0;36m0\u001b[0m\u001b[0;34m:\u001b[0m\u001b[0;34m\u001b[0m\u001b[0m\n",
      "\u001b[0;32m<ipython-input-34-0be6d59d046b>\u001b[0m in \u001b[0;36mtrain\u001b[0;34m(self)\u001b[0m\n\u001b[1;32m     74\u001b[0m                     rewards[i] + self.discount_factor * np.max(agents_reward_per_action[i]))\n\u001b[1;32m     75\u001b[0m \u001b[0;34m\u001b[0m\u001b[0m\n\u001b[0;32m---> 76\u001b[0;31m         \u001b[0;32mprint\u001b[0m \u001b[0magents_expected_reward\u001b[0m\u001b[0;34m.\u001b[0m\u001b[0mshape\u001b[0m\u001b[0;34m\u001b[0m\u001b[0m\n\u001b[0m\u001b[1;32m     77\u001b[0m         \u001b[0;32mprint\u001b[0m \u001b[0magents_expected_reward\u001b[0m\u001b[0;34m\u001b[0m\u001b[0m\n\u001b[1;32m     78\u001b[0m \u001b[0;34m\u001b[0m\u001b[0m\n",
      "\u001b[0;31mAttributeError\u001b[0m: 'list' object has no attribute 'shape'"
     ]
    }
   ],
   "source": [
    "DELAY = 0.05\n",
    "TOTAL_TRAIN_STEPS = 100000 # article trained with 10.000.000 million steps\n",
    "\n",
    "for step in range(TOTAL_TRAIN_STEPS):\n",
    "    \n",
    "    done = agent.update(step)\n",
    "\n",
    "    # sleep(DELAY)\n",
    "\n",
    "    if done:\n",
    "        print(\"Episode finished after {} timesteps\".format(step))"
   ]
  },
  {
   "cell_type": "code",
   "execution_count": 29,
   "metadata": {
    "collapsed": false
   },
   "outputs": [
    {
     "name": "stdout",
     "output_type": "stream",
     "text": [
      "Epsilon: 0.1\n",
      "Episode finished after 66 timesteps\n",
      "Epsilon: 0.1\n",
      "Epsilon: 0.1\n",
      "Epsilon: 0.1\n",
      "Episode finished after 534 timesteps\n",
      "Epsilon: 0.1\n",
      "Epsilon: 0.1\n",
      "Epsilon: 0.1\n",
      "Episode finished after 972 timesteps\n",
      "Epsilon: 0.1\n",
      "Epsilon: 0.1\n",
      "Epsilon: 0.1\n",
      "Epsilon: 0.1\n",
      "Episode finished after 1407 timesteps\n",
      "Epsilon: 0.1\n",
      "Epsilon: 0.1\n",
      "Epsilon: 0.1\n"
     ]
    },
    {
     "ename": "KeyboardInterrupt",
     "evalue": "",
     "output_type": "error",
     "traceback": [
      "\u001b[0;31m---------------------------------------------------------------------------\u001b[0m",
      "\u001b[0;31mKeyboardInterrupt\u001b[0m                         Traceback (most recent call last)",
      "\u001b[0;32m<ipython-input-29-3141e5c6907f>\u001b[0m in \u001b[0;36m<module>\u001b[0;34m()\u001b[0m\n\u001b[1;32m      5\u001b[0m \u001b[0;32mfor\u001b[0m \u001b[0mstep\u001b[0m \u001b[0;32min\u001b[0m \u001b[0mrange\u001b[0m\u001b[0;34m(\u001b[0m\u001b[0mTOTAL_TEST_STEPS\u001b[0m\u001b[0;34m)\u001b[0m\u001b[0;34m:\u001b[0m\u001b[0;34m\u001b[0m\u001b[0m\n\u001b[1;32m      6\u001b[0m \u001b[0;34m\u001b[0m\u001b[0m\n\u001b[0;32m----> 7\u001b[0;31m     \u001b[0mdone\u001b[0m \u001b[0;34m=\u001b[0m \u001b[0magent\u001b[0m\u001b[0;34m.\u001b[0m\u001b[0mupdate\u001b[0m\u001b[0;34m(\u001b[0m\u001b[0mstep\u001b[0m\u001b[0;34m)\u001b[0m\u001b[0;34m\u001b[0m\u001b[0m\n\u001b[0m\u001b[1;32m      8\u001b[0m \u001b[0;34m\u001b[0m\u001b[0m\n\u001b[1;32m      9\u001b[0m     \u001b[0;31m# sleep(DELAY)\u001b[0m\u001b[0;34m\u001b[0m\u001b[0;34m\u001b[0m\u001b[0m\n",
      "\u001b[0;32m<ipython-input-23-ff99c11e70f2>\u001b[0m in \u001b[0;36mupdate\u001b[0;34m(self, step)\u001b[0m\n\u001b[1;32m    129\u001b[0m \u001b[0;34m\u001b[0m\u001b[0m\n\u001b[1;32m    130\u001b[0m         \u001b[0;31m# Execute action a_t in emulator and observe reward r_t and image x_t+1\u001b[0m\u001b[0;34m\u001b[0m\u001b[0;34m\u001b[0m\u001b[0m\n\u001b[0;32m--> 131\u001b[0;31m         \u001b[0mnew_observation\u001b[0m\u001b[0;34m,\u001b[0m \u001b[0mreward\u001b[0m\u001b[0;34m,\u001b[0m \u001b[0mdone\u001b[0m\u001b[0;34m,\u001b[0m \u001b[0minfo\u001b[0m \u001b[0;34m=\u001b[0m \u001b[0mself\u001b[0m\u001b[0;34m.\u001b[0m\u001b[0m_env\u001b[0m\u001b[0;34m.\u001b[0m\u001b[0mstep\u001b[0m\u001b[0;34m(\u001b[0m\u001b[0mself\u001b[0m\u001b[0;34m.\u001b[0m\u001b[0maction\u001b[0m\u001b[0;34m)\u001b[0m\u001b[0;34m\u001b[0m\u001b[0m\n\u001b[0m\u001b[1;32m    132\u001b[0m         \u001b[0mself\u001b[0m\u001b[0;34m.\u001b[0m\u001b[0mtotal_reward\u001b[0m \u001b[0;34m+=\u001b[0m \u001b[0mreward\u001b[0m\u001b[0;34m\u001b[0m\u001b[0m\n\u001b[1;32m    133\u001b[0m \u001b[0;34m\u001b[0m\u001b[0m\n",
      "\u001b[0;32m/Users/thalles/Desktop/Code/reinforcement-learning/gym/gym/core.pyc\u001b[0m in \u001b[0;36mstep\u001b[0;34m(self, action)\u001b[0m\n\u001b[1;32m    120\u001b[0m         \"\"\"\n\u001b[1;32m    121\u001b[0m         \u001b[0mself\u001b[0m\u001b[0;34m.\u001b[0m\u001b[0mmonitor\u001b[0m\u001b[0;34m.\u001b[0m\u001b[0m_before_step\u001b[0m\u001b[0;34m(\u001b[0m\u001b[0maction\u001b[0m\u001b[0;34m)\u001b[0m\u001b[0;34m\u001b[0m\u001b[0m\n\u001b[0;32m--> 122\u001b[0;31m         \u001b[0mobservation\u001b[0m\u001b[0;34m,\u001b[0m \u001b[0mreward\u001b[0m\u001b[0;34m,\u001b[0m \u001b[0mdone\u001b[0m\u001b[0;34m,\u001b[0m \u001b[0minfo\u001b[0m \u001b[0;34m=\u001b[0m \u001b[0mself\u001b[0m\u001b[0;34m.\u001b[0m\u001b[0m_step\u001b[0m\u001b[0;34m(\u001b[0m\u001b[0maction\u001b[0m\u001b[0;34m)\u001b[0m\u001b[0;34m\u001b[0m\u001b[0m\n\u001b[0m\u001b[1;32m    123\u001b[0m \u001b[0;34m\u001b[0m\u001b[0m\n\u001b[1;32m    124\u001b[0m         \u001b[0mdone\u001b[0m \u001b[0;34m=\u001b[0m \u001b[0mself\u001b[0m\u001b[0;34m.\u001b[0m\u001b[0mmonitor\u001b[0m\u001b[0;34m.\u001b[0m\u001b[0m_after_step\u001b[0m\u001b[0;34m(\u001b[0m\u001b[0mobservation\u001b[0m\u001b[0;34m,\u001b[0m \u001b[0mreward\u001b[0m\u001b[0;34m,\u001b[0m \u001b[0mdone\u001b[0m\u001b[0;34m,\u001b[0m \u001b[0minfo\u001b[0m\u001b[0;34m)\u001b[0m\u001b[0;34m\u001b[0m\u001b[0m\n",
      "\u001b[0;32m/Users/thalles/Desktop/Code/reinforcement-learning/gym/gym/envs/atari/atari_env.pyc\u001b[0m in \u001b[0;36m_step\u001b[0;34m(self, a)\u001b[0m\n\u001b[1;32m     79\u001b[0m             \u001b[0mnum_steps\u001b[0m \u001b[0;34m=\u001b[0m \u001b[0mself\u001b[0m\u001b[0;34m.\u001b[0m\u001b[0mnp_random\u001b[0m\u001b[0;34m.\u001b[0m\u001b[0mrandint\u001b[0m\u001b[0;34m(\u001b[0m\u001b[0mself\u001b[0m\u001b[0;34m.\u001b[0m\u001b[0mframeskip\u001b[0m\u001b[0;34m[\u001b[0m\u001b[0;36m0\u001b[0m\u001b[0;34m]\u001b[0m\u001b[0;34m,\u001b[0m \u001b[0mself\u001b[0m\u001b[0;34m.\u001b[0m\u001b[0mframeskip\u001b[0m\u001b[0;34m[\u001b[0m\u001b[0;36m1\u001b[0m\u001b[0;34m]\u001b[0m\u001b[0;34m)\u001b[0m\u001b[0;34m\u001b[0m\u001b[0m\n\u001b[1;32m     80\u001b[0m         \u001b[0;32mfor\u001b[0m \u001b[0m_\u001b[0m \u001b[0;32min\u001b[0m \u001b[0mrange\u001b[0m\u001b[0;34m(\u001b[0m\u001b[0mnum_steps\u001b[0m\u001b[0;34m)\u001b[0m\u001b[0;34m:\u001b[0m\u001b[0;34m\u001b[0m\u001b[0m\n\u001b[0;32m---> 81\u001b[0;31m             \u001b[0mreward\u001b[0m \u001b[0;34m+=\u001b[0m \u001b[0mself\u001b[0m\u001b[0;34m.\u001b[0m\u001b[0male\u001b[0m\u001b[0;34m.\u001b[0m\u001b[0mact\u001b[0m\u001b[0;34m(\u001b[0m\u001b[0maction\u001b[0m\u001b[0;34m)\u001b[0m\u001b[0;34m\u001b[0m\u001b[0m\n\u001b[0m\u001b[1;32m     82\u001b[0m         \u001b[0mob\u001b[0m \u001b[0;34m=\u001b[0m \u001b[0mself\u001b[0m\u001b[0;34m.\u001b[0m\u001b[0m_get_obs\u001b[0m\u001b[0;34m(\u001b[0m\u001b[0;34m)\u001b[0m\u001b[0;34m\u001b[0m\u001b[0m\n\u001b[1;32m     83\u001b[0m \u001b[0;34m\u001b[0m\u001b[0m\n",
      "\u001b[0;32m/Users/thalles/anaconda/lib/python2.7/site-packages/atari_py/ale_python_interface.pyc\u001b[0m in \u001b[0;36mact\u001b[0;34m(self, action)\u001b[0m\n\u001b[1;32m    139\u001b[0m \u001b[0;34m\u001b[0m\u001b[0m\n\u001b[1;32m    140\u001b[0m     \u001b[0;32mdef\u001b[0m \u001b[0mact\u001b[0m\u001b[0;34m(\u001b[0m\u001b[0mself\u001b[0m\u001b[0;34m,\u001b[0m \u001b[0maction\u001b[0m\u001b[0;34m)\u001b[0m\u001b[0;34m:\u001b[0m\u001b[0;34m\u001b[0m\u001b[0m\n\u001b[0;32m--> 141\u001b[0;31m         \u001b[0;32mreturn\u001b[0m \u001b[0male_lib\u001b[0m\u001b[0;34m.\u001b[0m\u001b[0mact\u001b[0m\u001b[0;34m(\u001b[0m\u001b[0mself\u001b[0m\u001b[0;34m.\u001b[0m\u001b[0mobj\u001b[0m\u001b[0;34m,\u001b[0m \u001b[0mint\u001b[0m\u001b[0;34m(\u001b[0m\u001b[0maction\u001b[0m\u001b[0;34m)\u001b[0m\u001b[0;34m)\u001b[0m\u001b[0;34m\u001b[0m\u001b[0m\n\u001b[0m\u001b[1;32m    142\u001b[0m \u001b[0;34m\u001b[0m\u001b[0m\n\u001b[1;32m    143\u001b[0m     \u001b[0;32mdef\u001b[0m \u001b[0mgame_over\u001b[0m\u001b[0;34m(\u001b[0m\u001b[0mself\u001b[0m\u001b[0;34m)\u001b[0m\u001b[0;34m:\u001b[0m\u001b[0;34m\u001b[0m\u001b[0m\n",
      "\u001b[0;31mKeyboardInterrupt\u001b[0m: "
     ]
    }
   ],
   "source": [
    "DELAY = 0.05\n",
    "TOTAL_TEST_STEPS = 100000 # article trained with 10.000.000 million steps\n",
    "agent.is_training = False\n",
    "# agent.INITIAL_EXPLORATION_PROB = 0.05\n",
    "for step in range(TOTAL_TEST_STEPS):\n",
    "    \n",
    "    done = agent.update(step)\n",
    "\n",
    "    # sleep(DELAY)\n",
    "\n",
    "    if done:\n",
    "        print(\"Episode finished after {} timesteps\".format(step))"
   ]
  },
  {
   "cell_type": "code",
   "execution_count": null,
   "metadata": {
    "collapsed": false
   },
   "outputs": [],
   "source": [
    "img = agent.exp_replay_list[0][3]\n",
    "print img.shape\n",
    "#print agent.state[:, :, 1].shape\n",
    "plt.imshow(img[:,:,3], cmap='gray', interpolation='nearest')"
   ]
  },
  {
   "cell_type": "code",
   "execution_count": null,
   "metadata": {
    "collapsed": true
   },
   "outputs": [],
   "source": []
  }
 ],
 "metadata": {
  "kernelspec": {
   "display_name": "Python 2",
   "language": "python",
   "name": "python2"
  },
  "language_info": {
   "codemirror_mode": {
    "name": "ipython",
    "version": 2
   },
   "file_extension": ".py",
   "mimetype": "text/x-python",
   "name": "python",
   "nbconvert_exporter": "python",
   "pygments_lexer": "ipython2",
   "version": "2.7.11"
  }
 },
 "nbformat": 4,
 "nbformat_minor": 0
}
