{
 "cells": [
  {
   "cell_type": "code",
   "execution_count": 2,
   "metadata": {
    "collapsed": false
   },
   "outputs": [],
   "source": [
    "import gym\n",
    "import matplotlib.pyplot as plt\n",
    "import random\n",
    "import numpy as np\n",
    "from scipy import misc\n",
    "%matplotlib inline"
   ]
  },
  {
   "cell_type": "code",
   "execution_count": 3,
   "metadata": {
    "collapsed": true
   },
   "outputs": [],
   "source": [
    "IMAGE_SIZE = 84\n",
    "\n",
    "def display_state(state):\n",
    "    assert state.shape == (84,84,4), \"State shape error!\"\n",
    "    f, axarr = plt.subplots(1, 4, figsize=(16,5))\n",
    "    for c in range(0,4):\n",
    "        axarr[c].imshow(state[:,:,c], cmap=plt.cm.Greys);\n",
    "\n",
    "\n",
    "def display_transition(memory):\n",
    "    print memory[1]\n",
    "    # displya post states\n",
    "    states = [memory[0], memory[3]]\n",
    "    id = 0\n",
    "    f, axarr = plt.subplots(2, 4, figsize=(18,8))\n",
    "    for state in states:\n",
    "        for c in range(0,4):\n",
    "            axarr[id][c].imshow(state[:,:,c], cmap=plt.cm.Greys);\n",
    "            axarr[id][c].set_title('Action: ' + str(ACTION_NAMES[memory[1]]) + \" Reward:\" + str( memory[2]))\n",
    "        id += 1\n",
    "    plt.show()\n",
    "\n",
    "def process_input(img):\n",
    "    out = img[:195, :] # get only the playing area of the image\n",
    "    r, g, b = out[:,:,0], out[:,:,1], out[:,:,2]\n",
    "    out = r * (299./1000.) + g * (587./1000.) + b * (114./1000.)\n",
    "    out = misc.imresize(out, (IMAGE_SIZE, IMAGE_SIZE), interp=\"bilinear\")\n",
    "    print \"First state size:\", out.nbytes, \"bytes\"\n",
    "    print \"Image type:\", out.dtype\n",
    "    return out"
   ]
  },
  {
   "cell_type": "code",
   "execution_count": 4,
   "metadata": {
    "collapsed": false
   },
   "outputs": [
    {
     "name": "stderr",
     "output_type": "stream",
     "text": [
      "[2016-12-02 16:58:23,583] Making new env: DemonAttack-v0\n"
     ]
    },
    {
     "name": "stdout",
     "output_type": "stream",
     "text": [
      "First state size: 7056 bytes\n",
      "Image type: uint8\n"
     ]
    }
   ],
   "source": [
    "env = gym.make('DemonAttack-v0') #\n",
    "env.frameskip = 16\n",
    "ACTION_NAMES = env.get_action_meanings()\n",
    "first_obs = process_input(env.reset())"
   ]
  },
  {
   "cell_type": "code",
   "execution_count": 5,
   "metadata": {
    "collapsed": false
   },
   "outputs": [],
   "source": [
    "class ReplayMemory:\n",
    "    def __init__(self, args):\n",
    "        self.SIZE = args['size']\n",
    "        self.AGENT_HISTORY_LENGTH = args['agent_history_length']\n",
    "        self.MINIBATCH_SIZE = args['minibatch_size']\n",
    "        self.IMAGE_SIZE = args['image_size']\n",
    "        \n",
    "        self.head_index = -1;\n",
    "        self.actions = np.empty(self.size, dtype = np.uint8)\n",
    "        self.rewards = np.empty(self.size, dtype = np.integer)\n",
    "        self.observations = np.empty((self.size, args.screen_height, args.screen_width), dtype = np.uint8)\n",
    "        self.terminals = np.empty(self.size, dtype = np.bool)\n",
    "        \n",
    "    def size(self):\n",
    "        return len(self.observations)\n",
    "    \n",
    "    def init_memory(self, obs):\n",
    "        self.observations = np.stack(tuple(obs for _ in range(self.AGENT_HISTORY_LENGTH)), axis=2)\n",
    "        self.actions = np.array([0,0,0,0])\n",
    "        self.rewards = np.array([0,0,0,0])\n",
    "        self.terminals = np.array([False,False,False,False])\n",
    "        assert self.observations.shape[2] == len(self.actions) == len(self.rewards) == len(self.terminals), \"Invalid size\"\n",
    "        self.head_index = 3;\n",
    "        \n",
    "    def pop(self):\n",
    "        self.observations = np.delete(self.observations, 0, axis=2)\n",
    "        self.actions = np.delete(self.actions, 0)\n",
    "        self.rewards = np.delete(self.rewards, 0)\n",
    "        self.terminals = np.delete(self.terminals, 0)\n",
    "        self.head_index -= 1\n",
    "    \n",
    "    def add(self, obs, action, reward, terminal):\n",
    "        if self.head_index == (self.SIZE - 1):\n",
    "            self.pop()\n",
    "            \n",
    "        assert (obs.shape == (self.IMAGE_SIZE, self.IMAGE_SIZE)), \"Image shape not expected, please provide an (\" + str(self.IMAGE_SIZE) + \", \" + str(self.IMAGE_SIZE) + \") image.\"\n",
    "        assert self.observations.shape[2] == len(self.actions) == len(self.rewards) == len(self.terminals), \"Invalid size\"\n",
    "        obs = np.expand_dims(obs, axis=2)\n",
    "        self.observations = np.append(self.observations, obs, axis=2)\n",
    "        self.actions = np.append(self.actions, action)\n",
    "        self.rewards = np.append(self.rewards, reward)\n",
    "        self.terminals = np.append(self.terminals, terminal)\n",
    "        self.head_index += 1\n",
    "        \n",
    "    def _get_state(self, index):\n",
    "        state = self.observations[:,:,index - 3 : index + 1]\n",
    "        print state.shape\n",
    "        assert state.shape == (84,84,4), \"State shape error!\"\n",
    "        return state\n",
    "    \n",
    "    def get_current_state(self):\n",
    "        print self.observations.shape\n",
    "        return self.observations[:,:,self.head_index - 3 : self.head_index + 1]\n",
    "    \n",
    "    def get_current_transition(self):\n",
    "        minibatch = []\n",
    "        pre_state = self._get_state(self.head_index - 1)\n",
    "        post_state = self._get_state(self.head_index)\n",
    "        minibatch.append([pre_state, self.actions[self.head_index], self.rewards[self.head_index], post_state, self.terminals[self.head_index]])\n",
    "        return minibatch\n",
    "    \n",
    "    def get_minibatch(self):\n",
    "        indexes = random.sample(range(self.AGENT_HISTORY_LENGTH, len(self.actions)), self.MINIBATCH_SIZE)\n",
    "        print indexes\n",
    "        minibatch = []\n",
    "        for index in indexes:\n",
    "            pre_state = self._get_state(index - 1)\n",
    "            post_state = self._get_state(index)\n",
    "            minibatch.append([pre_state, self.actions[index], self.rewards[index], post_state, self.terminals[index]])\n",
    "        return minibatch"
   ]
  },
  {
   "cell_type": "code",
   "execution_count": 6,
   "metadata": {
    "collapsed": false
   },
   "outputs": [
    {
     "name": "stdout",
     "output_type": "stream",
     "text": [
      "Size: 7056\n",
      "(84, 84, 4)\n",
      "First state size: 7056 bytes\n",
      "(84, 84, 4)\n"
     ]
    },
    {
     "data": {
      "image/png": "[encoded data removed]",
      "text/plain": [
       "<matplotlib.figure.Figure at 0x7faa7b771c10>"
      ]
     },
     "metadata": {},
     "output_type": "display_data"
    }
   ],
   "source": [
    "import sys\n",
    "\n",
    "IMAGE_SIZE = 84\n",
    "args = {}\n",
    "args['size'] = 32\n",
    "args['agent_history_length'] = 4\n",
    "args['minibatch_size'] = 10\n",
    "args['image_size'] = IMAGE_SIZE\n",
    "memory = ReplayMemory(args)\n",
    "memory.init_memory(first_obs)\n",
    "\n",
    "img = memory.observations[:,:,0]\n",
    "print \"Size:\", img.nbytes\n",
    "state = memory.get_current_state()\n",
    "print \"First state size:\", memory.observations[:,:,0].nbytes, \"bytes\"\n",
    "\n",
    "print state.shape\n",
    "display_state(state)\n",
    "# misc.imshow(state[3])"
   ]
  },
  {
   "cell_type": "code",
   "execution_count": null,
   "metadata": {
    "collapsed": false
   },
   "outputs": [
    {
     "name": "stdout",
     "output_type": "stream",
     "text": [
      "First state size: 7056 bytes\n",
      "Image type: uint8\n",
      "== First state size: 7168 bytes\n",
      "First state size: 7056 bytes\n",
      "Image type: uint8\n",
      "== First state size: 7168 bytes\n",
      "First state size: 7056 bytes\n",
      "Image type: uint8\n",
      "== First state size: 7168 bytes\n",
      "First state size: 7056 bytes\n",
      "Image type: uint8\n",
      "== First state size: 7168 bytes\n",
      "First state size: 7056 bytes\n",
      "Image type: uint8\n",
      "== First state size: 7168 bytes\n",
      "First state size: 7056 bytes\n",
      "Image type: uint8\n",
      "== First state size: 7168 bytes\n",
      "First state size: 7056 bytes\n",
      "Image type: uint8\n",
      "== First state size: 7168 bytes\n",
      "First state size: 7056 bytes\n",
      "Image type: uint8\n",
      "== First state size: 7168 bytes\n",
      "First state size: 7056 bytes\n",
      "Image type: uint8\n",
      "== First state size: 7168 bytes\n",
      "First state size: 7056 bytes\n",
      "Image type: uint8\n",
      "== First state size: 7168 bytes\n",
      "First state size: 7056 bytes\n",
      "Image type: uint8\n",
      "== First state size: 7168 bytes\n",
      "First state size: 7056 bytes\n",
      "Image type: uint8\n",
      "== First state size: 7168 bytes\n",
      "First state size: 7056 bytes\n",
      "Image type: uint8\n",
      "== First state size: 7168 bytes\n",
      "First state size: 7056 bytes\n",
      "Image type: uint8\n",
      "== First state size: 7168 bytes\n",
      "First state size: 7056 bytes\n",
      "Image type: uint8\n",
      "== First state size: 7168 bytes\n",
      "First state size: 7056 bytes\n",
      "Image type: uint8\n",
      "== First state size: 7168 bytes\n",
      "First state size: 7056 bytes\n",
      "Image type: uint8\n",
      "== First state size: 7168 bytes\n",
      "First state size: 7056 bytes\n",
      "Image type: uint8\n",
      "== First state size: 7168 bytes\n",
      "First state size: 7056 bytes\n",
      "Image type: uint8\n",
      "== First state size: 7168 bytes\n",
      "First state size: 7056 bytes\n",
      "Image type: uint8\n",
      "== First state size: 7168 bytes\n",
      "First state size: 7056 bytes\n",
      "Image type: uint8\n",
      "== First state size: 7168 bytes\n",
      "First state size: 7056 bytes\n",
      "Image type: uint8\n",
      "== First state size: 7168 bytes\n",
      "First state size: 7056 bytes\n",
      "Image type: uint8\n",
      "== First state size: 7168 bytes\n",
      "First state size: 7056 bytes\n",
      "Image type: uint8\n",
      "== First state size: 7168 bytes\n",
      "First state size: 7056 bytes\n",
      "Image type: uint8\n",
      "== First state size: 7168 bytes\n",
      "First state size: 7056 bytes\n",
      "Image type: uint8\n",
      "== First state size: 7168 bytes\n",
      "First state size: 7056 bytes\n",
      "Image type: uint8\n",
      "== First state size: 7168 bytes\n",
      "First state size: 7056 bytes\n",
      "Image type: uint8\n",
      "== First state size: 7168 bytes\n",
      "First state size: 7056 bytes\n",
      "Image type: uint8\n",
      "== First state size: 7168 bytes\n",
      "First state size: 7056 bytes\n",
      "Image type: uint8\n",
      "== First state size: 7168 bytes\n",
      "First state size: 7056 bytes\n",
      "Image type: uint8\n",
      "== First state size: 7168 bytes\n",
      "First state size: 7056 bytes\n",
      "Image type: uint8\n",
      "== First state size: 7168 bytes\n",
      "First state size: 7056 bytes\n",
      "Image type: uint8\n",
      "== First state size: 7168 bytes\n",
      "First state size: 7056 bytes\n",
      "Image type: uint8\n",
      "== First state size: 7168 bytes\n",
      "First state size: 7056 bytes\n",
      "Image type: uint8\n",
      "== First state size: 7168 bytes\n",
      "First state size: 7056 bytes\n",
      "Image type: uint8\n",
      "== First state size: 7168 bytes\n",
      "First state size: 7056 bytes\n",
      "Image type: uint8\n",
      "== First state size: 7168 bytes\n",
      "First state size: 7056 bytes\n",
      "Image type: uint8\n",
      "== First state size: 7168 bytes\n",
      "First state size: 7056 bytes\n",
      "Image type: uint8\n",
      "== First state size: 7168 bytes\n",
      "First state size: 7056 bytes\n",
      "Image type: uint8\n",
      "== First state size: 7168 bytes\n",
      "First state size: 7056 bytes\n",
      "Image type: uint8\n",
      "== First state size: 7168 bytes\n",
      "First state size: 7056 bytes\n",
      "Image type: uint8\n",
      "== First state size: 7168 bytes\n",
      "First state size: 7056 bytes\n",
      "Image type: uint8\n",
      "== First state size: 7168 bytes\n",
      "First state size: 7056 bytes\n",
      "Image type: uint8\n",
      "== First state size: 7168 bytes\n",
      "First state size: 7056 bytes\n",
      "Image type: uint8\n",
      "== First state size: 7168 bytes\n",
      "First state size: 7056 bytes\n",
      "Image type: uint8\n",
      "== First state size: 7168 bytes\n",
      "First state size: 7056 bytes\n",
      "Image type: uint8\n",
      "== First state size: 7168 bytes\n",
      "First state size: 7056 bytes\n",
      "Image type: uint8\n",
      "== First state size: 7168 bytes\n",
      "First state size: 7056 bytes\n",
      "Image type: uint8\n",
      "== First state size: 7168 bytes\n",
      "First state size: 7056 bytes\n",
      "Image type: uint8\n",
      "== First state size: 7168 bytes\n"
     ]
    }
   ],
   "source": [
    "for _ in range(50):\n",
    "    env.render()\n",
    "    action = env.action_space.sample()\n",
    "    observation, reward, done, info = env.step(action) # take a random action\n",
    "    # print observation.shape\n",
    "    observation = process_input(observation)\n",
    "    print \"== First state size:\", sys.getsizeof(observation), \"bytes\"\n",
    "    memory.add(observation, action, reward, done)\n",
    "    exit()"
   ]
  },
  {
   "cell_type": "code",
   "execution_count": null,
   "metadata": {
    "collapsed": false
   },
   "outputs": [],
   "source": [
    "memory.observations.shape\n",
    "state = memory.get_current_state()\n",
    "\n",
    "print state.shape\n",
    "print ACTION_NAMES\n",
    "display_state(memory.observations[:,:, 28:32])"
   ]
  },
  {
   "cell_type": "code",
   "execution_count": 86,
   "metadata": {
    "collapsed": false
   },
   "outputs": [
    {
     "name": "stdout",
     "output_type": "stream",
     "text": [
      "[10, 19, 20, 5, 6, 4, 25, 24, 15, 30]\n",
      "(84, 84, 4)\n",
      "(84, 84, 4)\n",
      "(84, 84, 4)\n",
      "(84, 84, 4)\n",
      "(84, 84, 4)\n",
      "(84, 84, 4)\n",
      "(84, 84, 4)\n",
      "(84, 84, 4)\n",
      "(84, 84, 4)\n",
      "(84, 84, 4)\n",
      "(84, 84, 4)\n",
      "(84, 84, 4)\n",
      "(84, 84, 4)\n",
      "(84, 84, 4)\n",
      "(84, 84, 4)\n",
      "(84, 84, 4)\n",
      "(84, 84, 4)\n",
      "(84, 84, 4)\n",
      "(84, 84, 4)\n",
      "(84, 84, 4)\n"
     ]
    }
   ],
   "source": [
    "minibatch = memory.get_minibatch()"
   ]
  },
  {
   "cell_type": "code",
   "execution_count": 87,
   "metadata": {
    "collapsed": false
   },
   "outputs": [
    {
     "name": "stdout",
     "output_type": "stream",
     "text": [
      "2\n"
     ]
    },
    {
     "data": {
      "image/png": "[encoded data removed]",
      "text/plain": [
       "<matplotlib.figure.Figure at 0x7fbe9c9c51d0>"
      ]
     },
     "metadata": {},
     "output_type": "display_data"
    }
   ],
   "source": [
    "display_transition(minibatch[8])"
   ]
  },
  {
   "cell_type": "code",
   "execution_count": 88,
   "metadata": {
    "collapsed": false
   },
   "outputs": [
    {
     "name": "stdout",
     "output_type": "stream",
     "text": [
      "(84, 84, 4)\n",
      "(84, 84, 4)\n",
      "1\n"
     ]
    },
    {
     "data": {
      "image/png": "[encoded data removed]",
      "text/plain": [
       "<matplotlib.figure.Figure at 0x7fbe9c5d4c90>"
      ]
     },
     "metadata": {},
     "output_type": "display_data"
    },
    {
     "name": "stdout",
     "output_type": "stream",
     "text": [
      "(84, 84, 32)\n"
     ]
    }
   ],
   "source": [
    "transition = memory.get_current_transition()\n",
    "display_transition(transition[0])\n",
    "print memory.observations.shape"
   ]
  },
  {
   "cell_type": "code",
   "execution_count": 52,
   "metadata": {
    "collapsed": true
   },
   "outputs": [],
   "source": [
    "from collections import deque\n",
    "import numpy as np"
   ]
  },
  {
   "cell_type": "code",
   "execution_count": 53,
   "metadata": {
    "collapsed": false
   },
   "outputs": [
    {
     "name": "stdout",
     "output_type": "stream",
     "text": [
      "Ok\n"
     ]
    }
   ],
   "source": [
    "state = []\n",
    "pre_state = []\n",
    "print \"Ok\""
   ]
  },
  {
   "cell_type": "code",
   "execution_count": 54,
   "metadata": {
    "collapsed": false
   },
   "outputs": [],
   "source": [
    "a = 10\n",
    "b = 100\n",
    "state.append(a)\n",
    "pre_state.append(a)"
   ]
  },
  {
   "cell_type": "code",
   "execution_count": null,
   "metadata": {
    "collapsed": false
   },
   "outputs": [],
   "source": []
  },
  {
   "cell_type": "code",
   "execution_count": 55,
   "metadata": {
    "collapsed": false
   },
   "outputs": [
    {
     "name": "stdout",
     "output_type": "stream",
     "text": [
      "False\n",
      "26194080\n",
      "26194080\n"
     ]
    }
   ],
   "source": [
    "print id(pre_state) == id(state)\n",
    "print id(pre_state[0])\n",
    "print id(state[0])\n",
    "l = [state, pre_state]"
   ]
  },
  {
   "cell_type": "code",
   "execution_count": 56,
   "metadata": {
    "collapsed": false
   },
   "outputs": [
    {
     "name": "stdout",
     "output_type": "stream",
     "text": [
      "[[10], [10]]\n"
     ]
    }
   ],
   "source": [
    "print l"
   ]
  },
  {
   "cell_type": "code",
   "execution_count": 57,
   "metadata": {
    "collapsed": false
   },
   "outputs": [
    {
     "name": "stdout",
     "output_type": "stream",
     "text": [
      "[[10, 100], [10]]\n"
     ]
    }
   ],
   "source": [
    "state.append(b)\n",
    "print l"
   ]
  },
  {
   "cell_type": "code",
   "execution_count": 43,
   "metadata": {
    "collapsed": false
   },
   "outputs": [
    {
     "name": "stdout",
     "output_type": "stream",
     "text": [
      "True\n",
      "True\n"
     ]
    }
   ],
   "source": [
    "print pre_state[0] == state[0]\n",
    "print id(pre_state[0]) == id(state[0])"
   ]
  },
  {
   "cell_type": "code",
   "execution_count": null,
   "metadata": {
    "collapsed": true
   },
   "outputs": [],
   "source": []
  },
  {
   "cell_type": "code",
   "execution_count": null,
   "metadata": {
    "collapsed": true
   },
   "outputs": [],
   "source": []
  }
 ],
 "metadata": {
  "kernelspec": {
   "display_name": "Python 2",
   "language": "python",
   "name": "python2"
  },
  "language_info": {
   "codemirror_mode": {
    "name": "ipython",
    "version": 2
   },
   "file_extension": ".py",
   "mimetype": "text/x-python",
   "name": "python",
   "nbconvert_exporter": "python",
   "pygments_lexer": "ipython2",
   "version": "2.7.6"
  }
 },
 "nbformat": 4,
 "nbformat_minor": 0
}
