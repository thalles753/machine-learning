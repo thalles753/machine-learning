{
 "cells": [
  {
   "cell_type": "code",
   "execution_count": 1,
   "metadata": {
    "collapsed": false
   },
   "outputs": [
    {
     "name": "stdout",
     "output_type": "stream",
     "text": [
      "Libraries loaded\n"
     ]
    }
   ],
   "source": [
    "import numpy as np\n",
    "import tensorflow as tf\n",
    "from six.moves import cPickle as pickle\n",
    "from six.moves import range\n",
    "print \"Libraries loaded\""
   ]
  },
  {
   "cell_type": "markdown",
   "metadata": {},
   "source": [
    "Now that we have our dataset properly ready, we can start building a simple deep neural net for further evaluation. Let's begin by loading the dataset."
   ]
  },
  {
   "cell_type": "code",
   "execution_count": 2,
   "metadata": {
    "collapsed": false
   },
   "outputs": [
    {
     "name": "stdout",
     "output_type": "stream",
     "text": [
      "('Training set', (70000, 32, 32, 3), (70000,))\n",
      "('Validation set', (10000, 32, 32, 3), (10000,))\n",
      "('Test set', (20000, 32, 32, 3), (20000,))\n"
     ]
    }
   ],
   "source": [
    "pickle_file = 'dataset.pickle'\n",
    "\n",
    "with open(pickle_file, 'rb') as f:\n",
    "  save = pickle.load(f)\n",
    "  train_dataset = save['train_dataset']\n",
    "  train_labels = save['train_labels']\n",
    "  valid_dataset = save['valid_dataset']\n",
    "  valid_labels = save['valid_labels']\n",
    "  test_dataset = save['test_dataset']\n",
    "  test_labels = save['test_labels']\n",
    "  del save  # hint to help gc free up memory\n",
    "  print('Training set', train_dataset.shape, train_labels.shape)\n",
    "  print('Validation set', valid_dataset.shape, valid_labels.shape)\n",
    "  print('Test set', test_dataset.shape, test_labels.shape)"
   ]
  },
  {
   "cell_type": "markdown",
   "metadata": {},
   "source": [
    "Now let's Reformat into a shape that's more adapted to the models we're going to train:\n",
    "- data as a flat matrix,\n",
    "- labels as float 1-hot encodings."
   ]
  },
  {
   "cell_type": "code",
   "execution_count": 3,
   "metadata": {
    "collapsed": false
   },
   "outputs": [
    {
     "name": "stdout",
     "output_type": "stream",
     "text": [
      "('Training set', (70000, 3072), (70000, 10))\n",
      "('Validation set', (10000, 3072), (10000, 10))\n",
      "('Test set', (20000, 3072), (20000, 10))\n"
     ]
    }
   ],
   "source": [
    "image_size = 32\n",
    "num_labels = 10\n",
    "depth = 3\n",
    "\n",
    "def reformat(dataset, labels):\n",
    "  dataset = dataset.reshape((-1, image_size * image_size * depth)).astype(np.float32)\n",
    "  # Map 0 to [1.0, 0.0, 0.0 ...], 1 to [0.0, 1.0, 0.0 ...]\n",
    "  labels = (np.arange(num_labels) == labels[:,None]).astype(np.float32)\n",
    "  return dataset, labels\n",
    "\n",
    "train_dataset, train_labels = reformat(train_dataset, train_labels)\n",
    "valid_dataset, valid_labels = reformat(valid_dataset, valid_labels)\n",
    "test_dataset, test_labels = reformat(test_dataset, test_labels)\n",
    "print('Training set', train_dataset.shape, train_labels.shape)\n",
    "print('Validation set', valid_dataset.shape, valid_labels.shape)\n",
    "print('Test set', test_dataset.shape, test_labels.shape)"
   ]
  },
  {
   "cell_type": "code",
   "execution_count": 4,
   "metadata": {
    "collapsed": true
   },
   "outputs": [],
   "source": [
    "def accuracy(predictions, labels):\n",
    "  return (100.0 * np.sum(np.argmax(predictions, 1) == np.argmax(labels, 1))\n",
    "          / predictions.shape[0])"
   ]
  },
  {
   "cell_type": "code",
   "execution_count": 5,
   "metadata": {
    "collapsed": false
   },
   "outputs": [],
   "source": [
    "# With gradient descent training, even this much data is prohibitive.\n",
    "# Subset the training data for faster turnaround.\n",
    "train_subset = 10000\n",
    "\n",
    "graph = tf.Graph()\n",
    "with graph.as_default(): # describe the computation graph to ran\n",
    "\n",
    "  # Input data.\n",
    "  # Load the training, validation and test data into constants that are\n",
    "  # attached to the graph.\n",
    "  tf_train_dataset = tf.constant(train_dataset[:train_subset, :])\n",
    "  tf_train_labels = tf.constant(train_labels[:train_subset])\n",
    "  tf_valid_dataset = tf.constant(valid_dataset)\n",
    "  tf_test_dataset = tf.constant(test_dataset)\n",
    "  \n",
    "  # Variables.\n",
    "  # These are the parameters that we are going to be training. The weight\n",
    "  # matrix will be initialized using random valued following a (truncated)\n",
    "  # normal distribution. The biases get initialized to zero.\n",
    "  weights = tf.Variable(\n",
    "    tf.truncated_normal([image_size * image_size * depth, num_labels]))\n",
    "  biases = tf.Variable(tf.zeros([num_labels]))\n",
    "  \n",
    "  # Training computation.\n",
    "  # We multiply the inputs with the weight matrix, and add biases. We compute\n",
    "  # the softmax and cross-entropy (it's one operation in TensorFlow, because\n",
    "  # it's very common, and it can be optimized). We take the average of this\n",
    "  # cross-entropy across all training examples: that's our loss.\n",
    "  logits = tf.matmul(tf_train_dataset, weights) + biases\n",
    "  loss = tf.reduce_mean(\n",
    "    tf.nn.softmax_cross_entropy_with_logits(logits, tf_train_labels))\n",
    "  \n",
    "  # Optimizer.\n",
    "  # We are going to find the minimum of this loss using gradient descent.\n",
    "  optimizer = tf.train.GradientDescentOptimizer(0.5).minimize(loss)\n",
    "  \n",
    "  # Predictions for the training, validation, and test data.\n",
    "  # These are not part of training, but merely here so that we can report\n",
    "  # accuracy figures as we train.\n",
    "  train_prediction = tf.nn.softmax(logits)\n",
    "  valid_prediction = tf.nn.softmax(\n",
    "    tf.matmul(tf_valid_dataset, weights) + biases)\n",
    "  test_prediction = tf.nn.softmax(tf.matmul(tf_test_dataset, weights) + biases)"
   ]
  },
  {
   "cell_type": "code",
   "execution_count": 10,
   "metadata": {
    "collapsed": false
   },
   "outputs": [
    {
     "name": "stdout",
     "output_type": "stream",
     "text": [
      "Start processing.\n",
      "Initialized\n",
      "Loss at step 0: 25.204840\n",
      "Training accuracy: 10.7%\n",
      "Validation accuracy: 10.0%\n",
      "Loss at step 100: 13.802734\n",
      "Training accuracy: 10.9%\n",
      "Validation accuracy: 10.2%\n",
      "Loss at step 200: 17.523998\n",
      "Training accuracy: 11.2%\n",
      "Validation accuracy: 10.7%\n",
      "Loss at step 300: 12.195518\n",
      "Training accuracy: 12.2%\n",
      "Validation accuracy: 10.5%\n",
      "Loss at step 400: 22.071648\n",
      "Training accuracy: 12.7%\n",
      "Validation accuracy: 11.0%\n",
      "Loss at step 500: 19.041563\n",
      "Training accuracy: 10.9%\n",
      "Validation accuracy: 10.5%\n",
      "Loss at step 600: 24.776970\n",
      "Training accuracy: 10.9%\n",
      "Validation accuracy: 10.5%\n",
      "Loss at step 700: 23.784254\n",
      "Training accuracy: 13.7%\n",
      "Validation accuracy: 11.3%\n",
      "Loss at step 800: 13.772348\n",
      "Training accuracy: 13.2%\n",
      "Validation accuracy: 10.3%\n",
      "Test accuracy: 10.8%\n"
     ]
    }
   ],
   "source": [
    "num_steps = 801\n",
    "\n",
    "with tf.Session(graph=graph) as session:\n",
    "    # This is a one-time operation which ensures the parameters get initialized as\n",
    "    # we described in the graph: random weights for the matrix, zeros for the\n",
    "    # biases. \n",
    "    tf.initialize_all_variables().run()\n",
    "    print('Initialized')\n",
    "    for step in range(num_steps):\n",
    "        # Run the computations. We tell .run() that we want to run the optimizer,\n",
    "        # and get the loss value and the training predictions returned as numpy\n",
    "        # arrays.\n",
    "        _, l, predictions = session.run([optimizer, loss, train_prediction])\n",
    "        if (step % 100 == 0):\n",
    "            print('Loss at step %d: %f' % (step, l))\n",
    "            print('Training accuracy: %.1f%%' % accuracy(\n",
    "            predictions, train_labels[:train_subset, :]))\n",
    "            # Calling .eval() on valid_prediction is basically like calling run(), but\n",
    "            # just to get that one numpy array. Note that it recomputes all its graph\n",
    "            # dependencies.\n",
    "            print('Validation accuracy: %.1f%%' % accuracy(\n",
    "            valid_prediction.eval(), valid_labels))\n",
    "    print('Test accuracy: %.1f%%' % accuracy(test_prediction.eval(), test_labels))"
   ]
  },
  {
   "cell_type": "markdown",
   "metadata": {},
   "source": [
    "By looking at the small values of training and testing accuracy, we can say that this model seems to suffer from high variance, that is, the model is too simple to capture the underlying structure in the dataset.  A possible solution is to go deeper and explore much more complex models that might be able to learn the structure of the dataset."
   ]
  },
  {
   "cell_type": "markdown",
   "metadata": {},
   "source": [
    "Let's swtich to Stochastic Gradient Descent."
   ]
  },
  {
   "cell_type": "code",
   "execution_count": 18,
   "metadata": {
    "collapsed": false
   },
   "outputs": [],
   "source": [
    "batch_size = 128\n",
    "\n",
    "graph = tf.Graph()\n",
    "with graph.as_default():\n",
    "\n",
    "  # Input data. For the training data, we use a placeholder that will be fed\n",
    "  # at run time with a training minibatch.\n",
    "  tf_train_dataset = tf.placeholder(tf.float32,\n",
    "                                    shape=(batch_size, image_size * image_size * depth))\n",
    "  tf_train_labels = tf.placeholder(tf.float32, shape=(batch_size, num_labels))\n",
    "  tf_valid_dataset = tf.constant(valid_dataset)\n",
    "  tf_test_dataset = tf.constant(test_dataset)\n",
    "  \n",
    "  # Variables.\n",
    "  weights = tf.Variable(\n",
    "    tf.truncated_normal([image_size * image_size * depth, num_labels]))\n",
    "  biases = tf.Variable(tf.zeros([num_labels]))\n",
    "  \n",
    "  # Training computation.\n",
    "  logits = tf.matmul(tf_train_dataset, weights) + biases\n",
    "  loss = tf.reduce_mean(\n",
    "    tf.nn.softmax_cross_entropy_with_logits(logits, tf_train_labels))\n",
    "  \n",
    "  # Optimizer.\n",
    "  optimizer = tf.train.GradientDescentOptimizer(0.5).minimize(loss)\n",
    "  \n",
    "  # Predictions for the training, validation, and test data.\n",
    "  train_prediction = tf.nn.softmax(logits)\n",
    "  valid_prediction = tf.nn.softmax(\n",
    "    tf.matmul(tf_valid_dataset, weights) + biases)\n",
    "  test_prediction = tf.nn.softmax(tf.matmul(tf_test_dataset, weights) + biases)"
   ]
  },
  {
   "cell_type": "code",
   "execution_count": 20,
   "metadata": {
    "collapsed": false
   },
   "outputs": [
    {
     "name": "stdout",
     "output_type": "stream",
     "text": [
      "Initialized\n",
      "Minibatch loss at step 0: 25.714630\n",
      "Minibatch accuracy: 11.7%\n",
      "Validation accuracy: 9.8%\n",
      "Minibatch loss at step 500: 24.778267\n",
      "Minibatch accuracy: 13.3%\n",
      "Validation accuracy: 10.8%\n",
      "Minibatch loss at step 1000: 28.478218\n",
      "Minibatch accuracy: 9.4%\n",
      "Validation accuracy: 10.5%\n",
      "Minibatch loss at step 1500: 14.777555\n",
      "Minibatch accuracy: 10.2%\n",
      "Validation accuracy: 10.6%\n",
      "Minibatch loss at step 2000: 29.448759\n",
      "Minibatch accuracy: 12.5%\n",
      "Validation accuracy: 11.2%\n",
      "Minibatch loss at step 2500: 21.852587\n",
      "Minibatch accuracy: 16.4%\n",
      "Validation accuracy: 11.5%\n",
      "Minibatch loss at step 3000: 22.580236\n",
      "Minibatch accuracy: 12.5%\n",
      "Validation accuracy: 11.0%\n",
      "Test accuracy: 10.8%\n"
     ]
    }
   ],
   "source": [
    "num_steps = 3001\n",
    "\n",
    "with tf.Session(graph=graph) as session:\n",
    "  tf.initialize_all_variables().run()\n",
    "  print(\"Initialized\")\n",
    "  for step in range(num_steps):\n",
    "    # Pick an offset within the training data, which has been randomized.\n",
    "    # Note: we could use better randomization across epochs.\n",
    "    offset = (step * batch_size) % (train_labels.shape[0] - batch_size)\n",
    "    # Generate a minibatch.\n",
    "    batch_data = train_dataset[offset:(offset + batch_size), :]\n",
    "    batch_labels = train_labels[offset:(offset + batch_size), :]\n",
    "        \n",
    "    # Prepare a dictionary telling the session where to feed the minibatch.\n",
    "    # The key of the dictionary is the placeholder node of the graph to be fed,\n",
    "    # and the value is the numpy array to feed to it.\n",
    "    feed_dict = {tf_train_dataset : batch_data, tf_train_labels : batch_labels}\n",
    "    _, l, predictions = session.run(\n",
    "      [optimizer, loss, train_prediction], feed_dict=feed_dict)\n",
    "    if (step % 500 == 0):\n",
    "      print(\"Minibatch loss at step %d: %f\" % (step, l))\n",
    "      print(\"Minibatch accuracy: %.1f%%\" % accuracy(predictions, batch_labels))\n",
    "      print(\"Validation accuracy: %.1f%%\" % accuracy(\n",
    "        valid_prediction.eval(), valid_labels))\n",
    "  print(\"Test accuracy: %.1f%%\" % accuracy(test_prediction.eval(), test_labels))"
   ]
  },
  {
   "cell_type": "markdown",
   "metadata": {},
   "source": [
    "Let's transform the Multinomial Logistic Regretion with SGD example into a 1-hidden neural network with Rectified Liner Units (RELU)"
   ]
  },
  {
   "cell_type": "code",
   "execution_count": 23,
   "metadata": {
    "collapsed": true
   },
   "outputs": [],
   "source": [
    "batch_size = 128\n",
    "\n",
    "graph = tf.Graph()\n",
    "with graph.as_default():\n",
    "\n",
    "  # Input data. For the training data, we use a placeholder that will be fed\n",
    "  # at run time with a training minibatch.\n",
    "  tf_train_dataset = tf.placeholder(tf.float32,\n",
    "                                    shape=(batch_size, image_size*image_size*depth))\n",
    "  tf_train_labels = tf.placeholder(tf.float32, shape=(batch_size, num_labels))\n",
    "  tf_valid_dataset = tf.constant(valid_dataset)\n",
    "  tf_test_dataset = tf.constant(test_dataset)\n",
    "  \n",
    "  hidden_layer_size = 4096\n",
    "\n",
    "  # Variables.\n",
    "  # defines the weights and biases for the hidden layer's input\n",
    "  weights1 = tf.Variable(\n",
    "    tf.truncated_normal([image_size*image_size*depth, hidden_layer_size]))\n",
    "    \n",
    "  biases1 = tf.Variable(tf.zeros([hidden_layer_size]))\n",
    "\n",
    "  # Training computation.\n",
    "  hidden_layer_in = tf.matmul(tf_train_dataset, weights1) + biases1\n",
    "\n",
    "  # apply the rectified liner regretion \n",
    "  hidden_layer_in = tf.nn.relu(hidden_layer_in)\n",
    "  \n",
    "  # defines the weights and biases for the hidden layer's output\n",
    "  weights2 = tf.Variable(tf.truncated_normal([hidden_layer_size, num_labels]))\n",
    "    \n",
    "  biases2 = tf.Variable(tf.zeros([num_labels]))\n",
    "\n",
    "  hidden_layer_out = tf.matmul(hidden_layer_in, weights2) + biases2\n",
    "\n",
    "  # apply cross entropy\n",
    "  loss = tf.reduce_mean(\n",
    "    tf.nn.softmax_cross_entropy_with_logits(hidden_layer_out, tf_train_labels))\n",
    "    \n",
    "  # Optimizer.\n",
    "  optimizer = tf.train.GradientDescentOptimizer(0.05).minimize(loss)\n",
    "  \n",
    "  # Predictions for the training, validation, and test data.\n",
    "  train_prediction = tf.nn.softmax(hidden_layer_out)\n",
    "  \n",
    "  valid_hidden = tf.nn.relu(tf.matmul(tf_valid_dataset, weights1) + biases1)\n",
    "  valid_prediction = tf.nn.softmax(tf.matmul(valid_hidden, weights2) + biases2)\n",
    "  \n",
    "  test_hidden = tf.nn.relu(tf.matmul(tf_test_dataset, weights1) + biases1)\n",
    "  test_prediction = tf.nn.softmax(tf.matmul(test_hidden, weights2) + biases2)"
   ]
  },
  {
   "cell_type": "code",
   "execution_count": 24,
   "metadata": {
    "collapsed": false
   },
   "outputs": [
    {
     "name": "stdout",
     "output_type": "stream",
     "text": [
      "Initialized\n",
      "Minibatch loss at step 0: 1508.976929\n",
      "Minibatch accuracy: 9.4%\n",
      "Validation accuracy: 9.8%\n",
      "Minibatch loss at step 500: 433.308105\n",
      "Minibatch accuracy: 18.0%\n",
      "Validation accuracy: 22.6%\n",
      "Minibatch loss at step 1000: 254.485489\n",
      "Minibatch accuracy: 24.2%\n",
      "Validation accuracy: 22.4%\n",
      "Minibatch loss at step 1500: 179.885910\n",
      "Minibatch accuracy: 21.1%\n",
      "Validation accuracy: 18.7%\n",
      "Minibatch loss at step 2000: 117.050255\n",
      "Minibatch accuracy: 27.3%\n",
      "Validation accuracy: 24.3%\n",
      "Minibatch loss at step 2500: 81.481445\n",
      "Minibatch accuracy: 32.8%\n",
      "Validation accuracy: 24.0%\n",
      "Minibatch loss at step 3000: 124.745567\n",
      "Minibatch accuracy: 28.9%\n",
      "Validation accuracy: 25.2%\n",
      "Test accuracy: 25.7%\n"
     ]
    }
   ],
   "source": [
    "num_steps = 3001\n",
    "\n",
    "with tf.Session(graph=graph) as session:\n",
    "  tf.initialize_all_variables().run()\n",
    "  print(\"Initialized\")\n",
    "  for step in range(num_steps):\n",
    "    # Pick an offset within the training data, which has been randomized.\n",
    "    # Note: we could use better randomization across epochs.\n",
    "    offset = (step * batch_size) % (train_labels.shape[0] - batch_size)\n",
    "    # Generate a minibatch.\n",
    "    batch_data = train_dataset[offset:(offset + batch_size), :]\n",
    "    batch_labels = train_labels[offset:(offset + batch_size), :]\n",
    "    # Prepare a dictionary telling the session where to feed the minibatch.\n",
    "    # The key of the dictionary is the placeholder node of the graph to be fed,\n",
    "    # and the value is the numpy array to feed to it.\n",
    "    feed_dict = {tf_train_dataset : batch_data, tf_train_labels : batch_labels}\n",
    "    _, l, predictions = session.run(\n",
    "      [optimizer, loss, train_prediction], feed_dict=feed_dict)\n",
    "    if (step % 500 == 0):\n",
    "      print(\"Minibatch loss at step %d: %f\" % (step, l))\n",
    "      print(\"Minibatch accuracy: %.1f%%\" % accuracy(predictions, batch_labels))\n",
    "      print(\"Validation accuracy: %.1f%%\" % accuracy(\n",
    "        valid_prediction.eval(), valid_labels))\n",
    "  print(\"Test accuracy: %.1f%%\" % accuracy(test_prediction.eval(), test_labels))"
   ]
  },
  {
   "cell_type": "code",
   "execution_count": null,
   "metadata": {
    "collapsed": true
   },
   "outputs": [],
   "source": []
  },
  {
   "cell_type": "code",
   "execution_count": 9,
   "metadata": {
    "collapsed": true
   },
   "outputs": [],
   "source": [
    "batch_size = 128\n",
    "\n",
    "# define the input variable\n",
    "# the input variable will receive the image's pixels for every batch\n",
    "tf_train_dataset = tf.placeholder(tf.float32, [None, image_size * image_size * depth]) # [128 x 784] matrix \n",
    "tf_train_labels = tf.placeholder(tf.float32, shape=(None, num_labels))\n",
    "\n",
    "# placeholder to determine the percentage of data that will be dropped out\n",
    "keep_prob = tf.placeholder(tf.float32)\n",
    "\n",
    "# load the valid and test datasets\n",
    "tf_valid_dataset = tf.constant(valid_dataset)\n",
    "tf_test_dataset = tf.constant(test_dataset)\n",
    "\n",
    "##############################################################\n",
    "## Layer 1\n",
    "##############################################################\n",
    "# define the hidden layer size\n",
    "hidden_layer_size = 2048\n",
    "\n",
    "# define the weights (parameters) of the first layer\n",
    "W_layer1 = tf.Variable(tf.truncated_normal([image_size*image_size*depth, hidden_layer_size], stddev=0.03)) # [784x1024] Matrix \n",
    "\n",
    "# define the biases for the firtst layer\n",
    "b_layer1 = tf.Variable(tf.zeros([hidden_layer_size]))\n",
    "\n",
    "# training computation\n",
    "hidden_layer = tf.matmul(tf_train_dataset, W_layer1) + b_layer1 # [128 x 1024] Matrix\n",
    "\n",
    "# apply the relu (Rectified Linear Regression) function \n",
    "relu_hidden_layer = tf.nn.dropout(tf.nn.relu(hidden_layer), keep_prob)\n",
    "\n",
    "##############################################################\n",
    "## Layer 2\n",
    "##############################################################\n",
    "# define the hidden layer size\n",
    "hidden_layer2_size = 1024\n",
    "\n",
    "# define the weights (parameters) of the first layer\n",
    "W_layer2 = tf.Variable(tf.truncated_normal([hidden_layer_size, hidden_layer2_size], stddev=0.03)) # [1024x2048] Matrix \n",
    "\n",
    "# define the biases for the firtst layer\n",
    "b_layer2 = tf.Variable(tf.zeros([hidden_layer2_size])) # [2048]\n",
    "\n",
    "# training computation\n",
    "hidden_layer2 = tf.matmul(relu_hidden_layer, W_layer2) + b_layer2 # [128 x 2048] Matrix\n",
    "\n",
    "# apply the relu (Rectified Linear Regression) function \n",
    "relu_hidden_layer2 = tf.nn.dropout(tf.nn.relu(hidden_layer2), keep_prob)\n",
    "\n",
    "##############################################################\n",
    "## Layer 3\n",
    "##############################################################\n",
    "# define the hidden layer size\n",
    "# hidden_layer3_size = 1024\n",
    "\n",
    "# define the weights (parameters) of the first layer\n",
    "# W_layer3 = tf.Variable(tf.truncated_normal([hidden_layer2_size, hidden_layer3_size], stddev=0.03)) # [2048x2048] Matrix \n",
    "\n",
    "# define the biases for the firtst layer\n",
    "# b_layer3 = tf.Variable(tf.zeros([hidden_layer3_size])) # [2048]\n",
    "\n",
    "# training computation\n",
    "# hidden_layer3 = tf.matmul(relu_hidden_layer2, W_layer3) + b_layer3 # [128 x 2048] Matrix\n",
    "\n",
    "# apply the relu (Rectified Linear Regression) function \n",
    "# relu_hidden_layer3 = tf.nn.dropout(tf.nn.relu(hidden_layer3), keep_prob)\n",
    "\n",
    "##############################################################\n",
    "## Layer 4\n",
    "##############################################################\n",
    "\n",
    "# define the parameters for the second layer\n",
    "W_layer3 = tf.Variable(tf.truncated_normal([hidden_layer2_size, num_labels], stddev=0.03)) # [1024 x 10] Matrix\n",
    "\n",
    "# define the biases for the second layer \n",
    "b_layer3 = tf.Variable(tf.zeros([num_labels]))\n",
    "\n",
    "# training computation\n",
    "logits = tf.matmul(relu_hidden_layer2, W_layer3) + b_layer3 # [128 x 10]\n",
    "\n",
    "loss = tf.reduce_mean(tf.nn.softmax_cross_entropy_with_logits(logits, tf_train_labels))\n",
    "\n",
    "# apply regularization\n",
    "regularizers = tf.nn.l2_loss(W_layer1) + tf.nn.l2_loss(W_layer2) + tf.nn.l2_loss(W_layer3)\n",
    "loss += 4e-4 * regularizers \n",
    "\n",
    "global_step = tf.Variable(0, trainable=False)\n",
    "starter_learning_rate = 0.5\n",
    "learning_rate = tf.train.exponential_decay(starter_learning_rate, global_step,\n",
    "                                           decay_steps = batch_size, \n",
    "                                           decay_rate = 0.95, \n",
    "                                           staircase=True)\n",
    "\n",
    "# optimize the loss function using gradient descent\n",
    "optimizer = tf.train.GradientDescentOptimizer(learning_rate).minimize(loss, global_step=global_step)\n",
    "\n",
    "train_predictions = tf.nn.softmax(logits)\n",
    "\n",
    "# run the validation dataset using the trained netword (weights and biases)\n",
    "valid_prediction_hidden_layer = tf.nn.relu(tf.matmul(tf_valid_dataset, W_layer1) + b_layer1)\n",
    "valid_prediction_hidden_layer = tf.nn.relu(tf.matmul(valid_prediction_hidden_layer, W_layer2) + b_layer2)\n",
    "#valid_prediction_hidden_layer = tf.nn.relu(tf.matmul(valid_prediction_hidden_layer, W_layer3) + b_layer3)\n",
    "valid_prediction = tf.nn.softmax(tf.matmul(valid_prediction_hidden_layer, W_layer3) + b_layer3)\n",
    "\n",
    "# run the test dataset in the trained netword (weights and biases)\n",
    "test_prediction_hidden_layer = tf.nn.dropout(tf.nn.relu(tf.matmul(tf_test_dataset, W_layer1) + b_layer1), 1.0)\n",
    "test_prediction_hidden_layer = tf.nn.dropout(tf.nn.relu(tf.matmul(test_prediction_hidden_layer, W_layer2) + b_layer2), 1.0)\n",
    "#test_prediction_hidden_layer = tf.nn.dropout(tf.nn.relu(tf.matmul(test_prediction_hidden_layer, W_layer3) + b_layer3), 1.0)\n",
    "test_prediction = tf.nn.softmax(tf.matmul(test_prediction_hidden_layer, W_layer3) + b_layer3)"
   ]
  },
  {
   "cell_type": "code",
   "execution_count": null,
   "metadata": {
    "collapsed": false
   },
   "outputs": [],
   "source": [
    "# properly initialize the tensorflow variables\n",
    "init = tf.initialize_all_variables()\n",
    "\n",
    "# initialize the model in run the operation to initialize the variables\n",
    "sess = tf.Session()\n",
    "sess.run(init)\n",
    "\n",
    "num_steps = 3001\n",
    "learning_rate_decay = []\n",
    "\n",
    "for step in range(num_steps):\n",
    "    # Pick an offset within the training data, which has been randomized.\n",
    "    # Note: we could use better randomization across epochs.\n",
    "    offset = (step * batch_size) % (train_labels.shape[0] - batch_size)\n",
    "\n",
    "    # Generate a minibatch.\n",
    "    batch_data = train_dataset[offset:(offset + batch_size), :]\n",
    "    batch_labels = train_labels[offset:(offset + batch_size), :]\n",
    "    \n",
    "    # Prepare a dictionary telling the session where to feed the minibatch.\n",
    "    # The key of the dictionary is the placeholder node of the graph to be fed,\n",
    "    # and the value is the numpy array to feed to it.\n",
    "    feed_dict = {tf_train_dataset : batch_data, tf_train_labels : batch_labels, keep_prob: 0.5}\n",
    "    \n",
    "    opt, l, l_rate, predictions = sess.run(\n",
    "      [optimizer, loss, learning_rate, train_predictions], feed_dict=feed_dict)\n",
    "    \n",
    "    \n",
    "    learning_rate_decay.append(l_rate)\n",
    "    \n",
    "    if (step % 500 == 0):\n",
    "        print(\"Offset:\", offset)\n",
    "        print(\"Minibatch loss at step %d: %f\" % (step, l))\n",
    "        print(\"Minibatch accuracy %.1f%%\" % accuracy(predictions, batch_labels))\n",
    "        print(\"Validation accuracy %.1f%%\" % accuracy(valid_prediction.eval(session=sess), valid_labels))\n",
    "        \n",
    "print(\"Test accuracy: %.1f%%\" % accuracy(test_prediction.eval(session=sess), test_labels))\n",
    "\n",
    "import matplotlib.pyplot as plt\n",
    "\n",
    "# display a learning rate decreasing in a graph\n",
    "plt.plot(learning_rate_decay)\n",
    "plt.grid(1)\n",
    "plt.xlabel('Iterations')\n",
    "plt.ylabel('Cost')\n",
    "plt.show()"
   ]
  },
  {
   "cell_type": "code",
   "execution_count": null,
   "metadata": {
    "collapsed": true
   },
   "outputs": [],
   "source": []
  }
 ],
 "metadata": {
  "kernelspec": {
   "display_name": "Python 2",
   "language": "python",
   "name": "python2"
  },
  "language_info": {
   "codemirror_mode": {
    "name": "ipython",
    "version": 2
   },
   "file_extension": ".py",
   "mimetype": "text/x-python",
   "name": "python",
   "nbconvert_exporter": "python",
   "pygments_lexer": "ipython2",
   "version": "2.7.6"
  }
 },
 "nbformat": 4,
 "nbformat_minor": 0
}
