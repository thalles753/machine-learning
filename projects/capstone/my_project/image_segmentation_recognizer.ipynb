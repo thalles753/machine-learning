{
 "cells": [
  {
   "cell_type": "markdown",
   "metadata": {
    "collapsed": true
   },
   "source": [
    "# Capstone Project"
   ]
  },
  {
   "cell_type": "markdown",
   "metadata": {},
   "source": [
    "## Loading libraries"
   ]
  },
  {
   "cell_type": "markdown",
   "metadata": {},
   "source": [
    "First step is to make sure all of these python libraries are available for usage"
   ]
  },
  {
   "cell_type": "code",
   "execution_count": 38,
   "metadata": {
    "collapsed": false
   },
   "outputs": [],
   "source": [
    "import scipy.io as sio\n",
    "import matplotlib.pyplot as plt\n",
    "from IPython.display import display, Image\n",
    "%matplotlib inline"
   ]
  },
  {
   "cell_type": "markdown",
   "metadata": {},
   "source": [
    "Load the training and testing sets."
   ]
  },
  {
   "cell_type": "code",
   "execution_count": 62,
   "metadata": {
    "collapsed": false
   },
   "outputs": [
    {
     "name": "stdout",
     "output_type": "stream",
     "text": [
      "(32, 32, 3, 26032)\n",
      "(32, 32, 3, 26032)\n",
      "(32, 32, 3, 73257)\n",
      "(73257, 1)\n"
     ]
    }
   ],
   "source": [
    "raw_test_data = sio.loadmat(\"test_32x32.mat\")\n",
    "raw_train_data = sio.loadmat(\"train_32x32.mat\")\n",
    "\n",
    "train_dataset, train_labels = raw_test_data[\"X\"], raw_test_data[\"X\"]\n",
    "test_dataset, test_labels = raw_train_data[\"X\"], raw_train_data[\"y\"]\n",
    "\n",
    "print train_dataset.shape\n",
    "print train_labels.shape\n",
    "print test_dataset.shape\n",
    "print test_labels.shape"
   ]
  },
  {
   "cell_type": "markdown",
   "metadata": {},
   "source": [
    "Display some of the images just to make sure everything is fine."
   ]
  },
  {
   "cell_type": "code",
   "execution_count": 90,
   "metadata": {
    "collapsed": false
   },
   "outputs": [
    {
     "name": "stdout",
     "output_type": "stream",
     "text": [
      "[[[129 142 153]\n",
      "  [127 143 152]\n",
      "  [125 143 151]\n",
      "  ..., \n",
      "  [121 133 153]\n",
      "  [123 134 156]\n",
      "  [123 135 157]]\n",
      "\n",
      " [[134 150 160]\n",
      "  [133 149 158]\n",
      "  [132 149 157]\n",
      "  ..., \n",
      "  [127 138 157]\n",
      "  [126 137 157]\n",
      "  [125 137 158]]\n",
      "\n",
      " [[141 158 168]\n",
      "  [140 157 166]\n",
      "  [140 157 165]\n",
      "  ..., \n",
      "  [135 147 163]\n",
      "  [132 143 161]\n",
      "  [130 141 160]]\n",
      "\n",
      " ..., \n",
      " [[147 161 174]\n",
      "  [142 156 169]\n",
      "  [136 151 163]\n",
      "  ..., \n",
      "  [ 93  97 126]\n",
      "  [ 96 100 128]\n",
      "  [104 109 136]]\n",
      "\n",
      " [[138 152 165]\n",
      "  [130 144 157]\n",
      "  [121 136 148]\n",
      "  ..., \n",
      "  [ 93  99 128]\n",
      "  [101 107 134]\n",
      "  [112 118 144]]\n",
      "\n",
      " [[131 145 158]\n",
      "  [122 136 149]\n",
      "  [111 126 139]\n",
      "  ..., \n",
      "  [101 108 135]\n",
      "  [111 118 144]\n",
      "  [123 130 156]]]\n"
     ]
    },
    {
     "data": {
      "image/png": "[encoded data removed]",
      "text/plain": [
       "<PIL.Image.Image image mode=RGB size=32x32 at 0x10ED779D0>"
      ]
     },
     "metadata": {},
     "output_type": "display_data"
    }
   ],
   "source": [
    "\n",
    "\n",
    "from PIL import Image\n",
    "img = train_dataset[:,:,:,1]\n",
    "print img\n",
    "img = Image.fromarray(img, 'RGB')\n",
    "display(img)\n",
    "#display(Image(data=img))"
   ]
  },
  {
   "cell_type": "markdown",
   "metadata": {},
   "source": []
  },
  {
   "cell_type": "code",
   "execution_count": null,
   "metadata": {
    "collapsed": true
   },
   "outputs": [],
   "source": []
  }
 ],
 "metadata": {
  "kernelspec": {
   "display_name": "Python 2",
   "language": "python",
   "name": "python2"
  },
  "language_info": {
   "codemirror_mode": {
    "name": "ipython",
    "version": 2
   },
   "file_extension": ".py",
   "mimetype": "text/x-python",
   "name": "python",
   "nbconvert_exporter": "python",
   "pygments_lexer": "ipython2",
   "version": "2.7.11"
  }
 },
 "nbformat": 4,
 "nbformat_minor": 0
}
