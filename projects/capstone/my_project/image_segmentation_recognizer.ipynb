{
 "cells": [
  {
   "cell_type": "markdown",
   "metadata": {
    "collapsed": true
   },
   "source": [
    "# Capstone Project"
   ]
  },
  {
   "cell_type": "markdown",
   "metadata": {},
   "source": [
    "## Loading libraries"
   ]
  },
  {
   "cell_type": "markdown",
   "metadata": {},
   "source": [
    "First step is to make sure all of these python libraries are available for usage"
   ]
  },
  {
   "cell_type": "code",
   "execution_count": 35,
   "metadata": {
    "collapsed": false
   },
   "outputs": [],
   "source": [
    "import scipy.io as sio\n",
    "import matplotlib.pyplot as plt\n",
    "from IPython.display import display, Image\n",
    "import numpy as np\n",
    "from PIL import Image\n",
    "from sklearn.cross_validation import train_test_split\n",
    "import tensorflow as tf\n",
    "import os\n",
    "import urllib\n",
    "import random\n",
    "import cPickle as pickle\n",
    "%matplotlib inline"
   ]
  },
  {
   "cell_type": "markdown",
   "metadata": {},
   "source": [
    "Download the required datasets."
   ]
  },
  {
   "cell_type": "code",
   "execution_count": 2,
   "metadata": {
    "collapsed": false
   },
   "outputs": [
    {
     "name": "stdout",
     "output_type": "stream",
     "text": [
      "Filename: train_32x32.mat is already downloaded.\n",
      "Filename: test_32x32.mat is already downloaded.\n"
     ]
    }
   ],
   "source": [
    "url = 'http://ufldl.stanford.edu/housenumbers/'\n",
    "\n",
    "def maybe_download(filename):\n",
    "  \"\"\"Download a file if not present\"\"\"\n",
    "  if not os.path.exists(filename):\n",
    "    filename, _ = urllib.urlretrieve(url + filename, filename)\n",
    "    print filename, \"download completed.\"\n",
    "  else:\n",
    "    print 'Filename:', filename, 'is already downloaded.'\n",
    "  return filename\n",
    "\n",
    "# download the datasets if necessary\n",
    "train_dataset_filename = maybe_download(\"train_32x32.mat\")\n",
    "test_dataset_filename = maybe_download(\"test_32x32.mat\")"
   ]
  },
  {
   "cell_type": "markdown",
   "metadata": {},
   "source": [
    "Load training and testing sets."
   ]
  },
  {
   "cell_type": "code",
   "execution_count": 3,
   "metadata": {
    "collapsed": false
   },
   "outputs": [
    {
     "name": "stdout",
     "output_type": "stream",
     "text": [
      "Train dataset shape: (32, 32, 3, 73257)\n",
      "Train labels shape: (73257, 1)\n",
      "Test dataset shape: (32, 32, 3, 26032)\n",
      "Test labels shape: (26032, 1)\n"
     ]
    }
   ],
   "source": [
    "traning_size = 73257\n",
    "testing_size = 26032\n",
    "extra_size = 531131\n",
    "\n",
    "raw_train_data = sio.loadmat(train_dataset_filename)\n",
    "raw_test_data = sio.loadmat(test_dataset_filename)\n",
    "\n",
    "train_dataset, train_labels =  raw_train_data[\"X\"], raw_train_data[\"y\"]\n",
    "test_dataset, test_labels = raw_test_data[\"X\"], raw_test_data[\"y\"]\n",
    "\n",
    "# free up memory from the notebook cache\n",
    "%xdel raw_train_data\n",
    "%xdel raw_test_data\n",
    "\n",
    "print \"Train dataset shape:\", train_dataset.shape\n",
    "print \"Train labels shape:\",train_labels.shape\n",
    "print \"Test dataset shape:\",test_dataset.shape\n",
    "print \"Test labels shape:\",test_labels.shape"
   ]
  },
  {
   "cell_type": "markdown",
   "metadata": {},
   "source": [
    "## Image processing"
   ]
  },
  {
   "cell_type": "markdown",
   "metadata": {},
   "source": [
    "Reshape the datasets for better index accessing"
   ]
  },
  {
   "cell_type": "code",
   "execution_count": 4,
   "metadata": {
    "collapsed": false
   },
   "outputs": [
    {
     "name": "stdout",
     "output_type": "stream",
     "text": [
      "Train dataset shape: (73257, 32, 32, 3)\n",
      "Train labels shape: (73257, 1)\n",
      "Test dataset shape: (26032, 32, 32, 3)\n",
      "Test labels shape: (26032, 1)\n"
     ]
    }
   ],
   "source": [
    "image_size = 32  # Pixel width and height.\n",
    "number_of_channels = 3\n",
    "\n",
    "def reshape_dataset(data, n_of_images):\n",
    "    dataset = np.ndarray(shape=(n_of_images, image_size, image_size, number_of_channels), dtype=np.uint8) \n",
    "    for index in range(0,n_of_images):\n",
    "        dataset[index,:,:,:] = data[:,:,:,index]\n",
    "    return dataset\n",
    "    \n",
    "train_dataset = reshape_dataset(train_dataset, traning_size)\n",
    "test_dataset = reshape_dataset(test_dataset, testing_size)\n",
    "\n",
    "print \"Train dataset shape:\", train_dataset.shape\n",
    "print \"Train labels shape:\",train_labels.shape\n",
    "print \"Test dataset shape:\",test_dataset.shape\n",
    "print \"Test labels shape:\",test_labels.shape"
   ]
  },
  {
   "cell_type": "markdown",
   "metadata": {},
   "source": [
    "Display some of the images just to make sure everything is fine."
   ]
  },
  {
   "cell_type": "code",
   "execution_count": 5,
   "metadata": {
    "collapsed": false
   },
   "outputs": [
    {
     "data": {
      "image/png": "[encoded data removed]",
      "text/plain": [
       "<PIL.Image.Image image mode=RGB size=32x32 at 0x10409A190>"
      ]
     },
     "metadata": {},
     "output_type": "display_data"
    },
    {
     "name": "stdout",
     "output_type": "stream",
     "text": [
      "[1]\n"
     ]
    },
    {
     "data": {
      "image/png": "[encoded data removed]",
      "text/plain": [
       "<PIL.Image.Image image mode=RGB size=32x32 at 0x1169C2FD0>"
      ]
     },
     "metadata": {},
     "output_type": "display_data"
    },
    {
     "name": "stdout",
     "output_type": "stream",
     "text": [
      "[3]\n"
     ]
    },
    {
     "data": {
      "image/png": "[encoded data removed]",
      "text/plain": [
       "<PIL.Image.Image image mode=RGB size=32x32 at 0x111CAD950>"
      ]
     },
     "metadata": {},
     "output_type": "display_data"
    },
    {
     "name": "stdout",
     "output_type": "stream",
     "text": [
      "[4]\n"
     ]
    },
    {
     "data": {
      "image/png": "[encoded data removed]",
      "text/plain": [
       "<PIL.Image.Image image mode=RGB size=32x32 at 0x1169C2F90>"
      ]
     },
     "metadata": {},
     "output_type": "display_data"
    },
    {
     "name": "stdout",
     "output_type": "stream",
     "text": [
      "[2]\n"
     ]
    },
    {
     "data": {
      "image/png": "[encoded data removed]",
      "text/plain": [
       "<PIL.Image.Image image mode=RGB size=32x32 at 0x111CAD950>"
      ]
     },
     "metadata": {},
     "output_type": "display_data"
    },
    {
     "name": "stdout",
     "output_type": "stream",
     "text": [
      "[9]\n"
     ]
    }
   ],
   "source": [
    "def display_images_at_random(dataset, labels, size, N):\n",
    "    random.seed(1)\n",
    "    # display the first n images\n",
    "    for i in random.sample(xrange(size), N):\n",
    "        img = dataset[i,:,:,:]\n",
    "        display(Image.fromarray(img, 'RGB'))\n",
    "        print labels[i]\n",
    "        \n",
    "display_images_at_random(train_dataset, train_labels, traning_size, 5)"
   ]
  },
  {
   "cell_type": "markdown",
   "metadata": {},
   "source": [
    "### Labels processing"
   ]
  },
  {
   "cell_type": "markdown",
   "metadata": {},
   "source": [
    "According to the dataset specs, in the SVHN dataset, there are 10 classes, 1 for each digit. Digit '1' has label 1, '9' has label 9 and '0' has label 10. Let's make each of the images with 0s to have a class label of '0' instead of '10'."
   ]
  },
  {
   "cell_type": "code",
   "execution_count": 6,
   "metadata": {
    "collapsed": false
   },
   "outputs": [
    {
     "name": "stdout",
     "output_type": "stream",
     "text": [
      "Train labels re-shaped to 1-D: (73257,)\n",
      "Test labels re-shaped to 1-D: (26032,)\n"
     ]
    }
   ],
   "source": [
    "for index in range(0,train_labels.size):\n",
    "    if train_labels[index] == 10:\n",
    "        train_labels[index] = 0\n",
    "        \n",
    "for index in range(0,test_labels.size):\n",
    "    if test_labels[index] == 10:\n",
    "        test_labels[index] = 0\n",
    "\n",
    "# reshape the labels to be 1-D array\n",
    "train_labels = train_labels.reshape(train_labels.size)\n",
    "test_labels = test_labels.reshape(test_labels.size)\n",
    "\n",
    "print \"Train labels re-shaped to 1-D:\",train_labels.shape\n",
    "print \"Test labels re-shaped to 1-D:\",test_labels.shape"
   ]
  },
  {
   "cell_type": "markdown",
   "metadata": {},
   "source": [
    "Another check: we expect the data to be balanced across classes."
   ]
  },
  {
   "cell_type": "code",
   "execution_count": 7,
   "metadata": {
    "collapsed": false
   },
   "outputs": [
    {
     "data": {
      "image/png": "[encoded data removed]",
      "text/plain": [
       "<matplotlib.figure.Figure at 0x1169d4710>"
      ]
     },
     "metadata": {},
     "output_type": "display_data"
    },
    {
     "data": {
      "image/png": "[encoded data removed]",
      "text/plain": [
       "<matplotlib.figure.Figure at 0x116b0edd0>"
      ]
     },
     "metadata": {},
     "output_type": "display_data"
    }
   ],
   "source": [
    "# verify if the data is well balanced across the classes\n",
    "def display_data_distribution(labels):\n",
    "    data_distribution = np.bincount(labels)\n",
    "\n",
    "    index = np.arange(10)\n",
    "    plt.bar(index, data_distribution)\n",
    "    plt.title(\"Display the number of Samples per class label\")\n",
    "    plt.xlabel('Classes')\n",
    "    plt.ylabel('Samples')\n",
    "\n",
    "    bar_width = 0.35\n",
    "    plt.xticks(index + bar_width, ('0', '1', '2', '3', '4', '5', '6', '7', '8', '9'))\n",
    "\n",
    "    plt.show()\n",
    "    \n",
    "display_data_distribution(train_labels)\n",
    "display_data_distribution(test_labels)"
   ]
  },
  {
   "cell_type": "markdown",
   "metadata": {},
   "source": [
    "As we can see, the distribution of images per class is not well balanced. There are much more images of class 1 than any other. Also, we notice that there are more than twice more images from class '1' than from class '0', '6', '7', '8', and '9'. However, we have to measure how balanced the classes in this dataset are."
   ]
  },
  {
   "cell_type": "code",
   "execution_count": 8,
   "metadata": {
    "collapsed": false
   },
   "outputs": [
    {
     "name": "stdout",
     "output_type": "stream",
     "text": [
      "4.02986151914\n"
     ]
    }
   ],
   "source": [
    "def calculate_dataset_distribution_rate(dataset_labels):\n",
    "    data_distribution = np.bincount(dataset_labels)\n",
    "    K = len(data_distribution)\n",
    "    N = len(dataset_labels)\n",
    "    c = 0\n",
    "    for ck in data_distribution:\n",
    "        c += (ck - (N/K))**2\n",
    "\n",
    "    return (1.0/N)*((1.0/(K-1.0) * c) ** (0.5)) * 100\n",
    "\n",
    "print calculate_dataset_distribution_rate(train_labels)"
   ]
  },
  {
   "cell_type": "markdown",
   "metadata": {},
   "source": [
    "Let's create a new totally balanced dataset using both the training and testing sets. This new dataset will have 80000 example images and our goal is to make each class to have exactly 8000 samples. "
   ]
  },
  {
   "cell_type": "code",
   "execution_count": 9,
   "metadata": {
    "collapsed": false
   },
   "outputs": [
    {
     "data": {
      "image/png": "[encoded data removed]",
      "text/plain": [
       "<matplotlib.figure.Figure at 0x10407ae90>"
      ]
     },
     "metadata": {},
     "output_type": "display_data"
    }
   ],
   "source": [
    "NEW_DATASET_SIZE = 80000\n",
    "dataset = np.zeros(shape=(NEW_DATASET_SIZE, image_size, image_size, number_of_channels), dtype=np.uint8)\n",
    "labels = np.zeros(shape=(NEW_DATASET_SIZE, 1), dtype=np.uint8)\n",
    "\n",
    "distribution = [0,0,0,0,0,0,0,0,0,0]\n",
    "SAMPLE_LIMIT_PER_CLASS = NEW_DATASET_SIZE / 10\n",
    "new_data_index = 0\n",
    "\n",
    "index_train = 0\n",
    "for label in train_labels:\n",
    "    if distribution[label] < SAMPLE_LIMIT_PER_CLASS:\n",
    "        dataset[new_data_index,:,:,:] = train_dataset[index_train]\n",
    "        labels[new_data_index,:] = label\n",
    "        distribution[label] += 1\n",
    "        new_data_index += 1\n",
    "        index_train += 1\n",
    "    \n",
    "index_test = 0\n",
    "for label in test_labels:\n",
    "    if distribution[label] < SAMPLE_LIMIT_PER_CLASS:\n",
    "        dataset[new_data_index,:,:,:] = test_dataset[index_test]\n",
    "        labels[new_data_index,:] = label\n",
    "        distribution[label] += 1\n",
    "        new_data_index += 1\n",
    "        index_test += 1\n",
    "        \n",
    "# free up memory from the notebook cache\n",
    "%xdel train_dataset\n",
    "%xdel train_labels\n",
    "%xdel test_dataset\n",
    "%xdel test_labels\n",
    "\n",
    "display_data_distribution(labels.reshape(NEW_DATASET_SIZE))"
   ]
  },
  {
   "cell_type": "markdown",
   "metadata": {},
   "source": [
    "We can see that even combining both training and testing sets, they both do not have sufficient data for filling each of the classes with 8000 example images. Because of that lets load up the extra dataset in order to fill this gap. Note that the higher class 0 bar does not mean that there actually are nearly 12000 elements there, this behaviour is because we start off the new dataset labels with 0s.  "
   ]
  },
  {
   "cell_type": "code",
   "execution_count": 10,
   "metadata": {
    "collapsed": false
   },
   "outputs": [
    {
     "name": "stdout",
     "output_type": "stream",
     "text": [
      "Filename: extra_32x32.mat is already downloaded.\n",
      "Extra dataset shape: (32, 32, 3, 531131)\n",
      "Extra labels shape: (531131, 1)\n"
     ]
    }
   ],
   "source": [
    "extra_dataset_filename = maybe_download(\"extra_32x32.mat\")\n",
    "\n",
    "# load the dataset\n",
    "raw_extra_data = sio.loadmat(extra_dataset_filename)\n",
    "\n",
    "# get the data variables\n",
    "extra_dataset, extra_labels = raw_extra_data[\"X\"], raw_extra_data[\"y\"]\n",
    "\n",
    "# free up \n",
    "%xdel raw_extra_data\n",
    "\n",
    "print \"Extra dataset shape:\",extra_dataset.shape\n",
    "print \"Extra labels shape:\",extra_labels.shape"
   ]
  },
  {
   "cell_type": "markdown",
   "metadata": {},
   "source": [
    "Now let's reshape this new dataset and convert the classes as we did to the training and testing sets."
   ]
  },
  {
   "cell_type": "code",
   "execution_count": 11,
   "metadata": {
    "collapsed": false
   },
   "outputs": [
    {
     "name": "stdout",
     "output_type": "stream",
     "text": [
      "Extra dataset shape: (531131, 32, 32, 3)\n",
      "Extra labels shape: (531131, 1)\n",
      "Extra labels re-shaped to 1-D: (531131,)\n"
     ]
    },
    {
     "data": {
      "image/png": "[encoded data removed]",
      "text/plain": [
       "<PIL.Image.Image image mode=RGB size=32x32 at 0x1169D4150>"
      ]
     },
     "metadata": {},
     "output_type": "display_data"
    },
    {
     "name": "stdout",
     "output_type": "stream",
     "text": [
      "8\n"
     ]
    },
    {
     "data": {
      "image/png": "[encoded data removed]",
      "text/plain": [
       "<PIL.Image.Image image mode=RGB size=32x32 at 0x116C7F7D0>"
      ]
     },
     "metadata": {},
     "output_type": "display_data"
    },
    {
     "name": "stdout",
     "output_type": "stream",
     "text": [
      "7\n"
     ]
    },
    {
     "data": {
      "image/png": "[encoded data removed]",
      "text/plain": [
       "<PIL.Image.Image image mode=RGB size=32x32 at 0x116C7F7D0>"
      ]
     },
     "metadata": {},
     "output_type": "display_data"
    },
    {
     "name": "stdout",
     "output_type": "stream",
     "text": [
      "2\n"
     ]
    },
    {
     "data": {
      "image/png": "[encoded data removed]",
      "text/plain": [
       "<PIL.Image.Image image mode=RGB size=32x32 at 0x116C7F7D0>"
      ]
     },
     "metadata": {},
     "output_type": "display_data"
    },
    {
     "name": "stdout",
     "output_type": "stream",
     "text": [
      "7\n"
     ]
    },
    {
     "data": {
      "image/png": "[encoded data removed]",
      "text/plain": [
       "<PIL.Image.Image image mode=RGB size=32x32 at 0x116C7F7D0>"
      ]
     },
     "metadata": {},
     "output_type": "display_data"
    },
    {
     "name": "stdout",
     "output_type": "stream",
     "text": [
      "8\n"
     ]
    }
   ],
   "source": [
    "extra_dataset = reshape_dataset(extra_dataset, extra_size)\n",
    "\n",
    "print \"Extra dataset shape:\",extra_dataset.shape\n",
    "print \"Extra labels shape:\",extra_labels.shape\n",
    "\n",
    "# convert the class label 10 to be 0\n",
    "for index in range(0,extra_labels.size):\n",
    "    if extra_labels[index] == 10:\n",
    "        extra_labels[index] = 0\n",
    "\n",
    "# reshape the labels to be 1-D array\n",
    "extra_labels = extra_labels.reshape(extra_labels.size)\n",
    "print \"Extra labels re-shaped to 1-D:\",extra_labels.shape\n",
    "\n",
    "# display some images for checking\n",
    "display_images_at_random(extra_dataset, extra_labels, extra_size, 5)"
   ]
  },
  {
   "cell_type": "markdown",
   "metadata": {},
   "source": [
    "Now, fill out the new dataset."
   ]
  },
  {
   "cell_type": "code",
   "execution_count": 12,
   "metadata": {
    "collapsed": false
   },
   "outputs": [
    {
     "name": "stdout",
     "output_type": "stream",
     "text": [
      "74969\n"
     ]
    },
    {
     "data": {
      "image/png": "[encoded data removed]",
      "text/plain": [
       "<matplotlib.figure.Figure at 0x116c6c650>"
      ]
     },
     "metadata": {},
     "output_type": "display_data"
    },
    {
     "data": {
      "image/png": "[encoded data removed]",
      "text/plain": [
       "<PIL.Image.Image image mode=RGB size=32x32 at 0x116B24F50>"
      ]
     },
     "metadata": {},
     "output_type": "display_data"
    },
    {
     "name": "stdout",
     "output_type": "stream",
     "text": [
      "[1]\n"
     ]
    },
    {
     "data": {
      "image/png": "[encoded data removed]",
      "text/plain": [
       "<PIL.Image.Image image mode=RGB size=32x32 at 0x116C76510>"
      ]
     },
     "metadata": {},
     "output_type": "display_data"
    },
    {
     "name": "stdout",
     "output_type": "stream",
     "text": [
      "[0]\n"
     ]
    },
    {
     "data": {
      "image/png": "[encoded data removed]",
      "text/plain": [
       "<PIL.Image.Image image mode=RGB size=32x32 at 0x116B24F50>"
      ]
     },
     "metadata": {},
     "output_type": "display_data"
    },
    {
     "name": "stdout",
     "output_type": "stream",
     "text": [
      "[8]\n"
     ]
    },
    {
     "data": {
      "image/png": "[encoded data removed]",
      "text/plain": [
       "<PIL.Image.Image image mode=RGB size=32x32 at 0x116C76510>"
      ]
     },
     "metadata": {},
     "output_type": "display_data"
    },
    {
     "name": "stdout",
     "output_type": "stream",
     "text": [
      "[3]\n"
     ]
    },
    {
     "data": {
      "image/png": "[encoded data removed]",
      "text/plain": [
       "<PIL.Image.Image image mode=RGB size=32x32 at 0x116B24F50>"
      ]
     },
     "metadata": {},
     "output_type": "display_data"
    },
    {
     "name": "stdout",
     "output_type": "stream",
     "text": [
      "[1]\n"
     ]
    }
   ],
   "source": [
    "print new_data_index\n",
    "\n",
    "index_extra = 0\n",
    "for label in extra_labels:\n",
    "    if distribution[label] < SAMPLE_LIMIT_PER_CLASS:\n",
    "        dataset[new_data_index,:,:,:] = extra_dataset[index_extra]\n",
    "        labels[new_data_index,:] = label\n",
    "        distribution[label] += 1\n",
    "        new_data_index += 1\n",
    "        index_extra += 1\n",
    "  \n",
    "# free up \n",
    "%xdel extra_dataset\n",
    "%xdel extra_labels\n",
    "\n",
    "# redisplay the data distribution\n",
    "display_data_distribution(labels.reshape(NEW_DATASET_SIZE))\n",
    "\n",
    "display_images_at_random(dataset, labels, NEW_DATASET_SIZE, 5)"
   ]
  },
  {
   "cell_type": "markdown",
   "metadata": {},
   "source": [
    "Now if we avaluate the balance factor of this new dataset, we will see a very small number which indicated that the dataset is well balanced."
   ]
  },
  {
   "cell_type": "code",
   "execution_count": 13,
   "metadata": {
    "collapsed": false
   },
   "outputs": [
    {
     "name": "stdout",
     "output_type": "stream",
     "text": [
      "New dataset shape: (80000, 32, 32, 3)\n",
      "New labels shape: (80000, 1)\n",
      "0.0\n"
     ]
    }
   ],
   "source": [
    "print \"New dataset shape:\", dataset.shape\n",
    "print \"New labels shape:\", labels.shape\n",
    "\n",
    "print calculate_dataset_distribution_rate(labels.reshape(NEW_DATASET_SIZE))"
   ]
  },
  {
   "cell_type": "markdown",
   "metadata": {},
   "source": [
    "Let's procede by normalizing our images in order to have the mean and variable close to 0."
   ]
  },
  {
   "cell_type": "code",
   "execution_count": 14,
   "metadata": {
    "collapsed": false
   },
   "outputs": [
    {
     "name": "stdout",
     "output_type": "stream",
     "text": [
      "Mean: 0.261159\n",
      "Standard deviation: 0.186185\n"
     ]
    },
    {
     "data": {
      "image/png": "[encoded data removed]",
      "text/plain": [
       "<matplotlib.figure.Figure at 0x116a28390>"
      ]
     },
     "metadata": {},
     "output_type": "display_data"
    }
   ],
   "source": [
    "pixel_depth = 128.0  # Number of levels per pixel.\n",
    "\n",
    "# take one image\n",
    "image = dataset[100] # get an image\n",
    "\n",
    "scaled = image.astype(np.float32) # convert to float\n",
    "scaled = (scaled - pixel_depth) / pixel_depth # normalize\n",
    "\n",
    "# display the normalized image\n",
    "_, (ax1, ax2) = plt.subplots(1, 2)\n",
    "ax1.imshow(scaled, cmap=plt.cm.Greys);\n",
    "ax2.hist(np.reshape(scaled, 3072), bins=20, range=[np.min(scaled) - 0.1, np.max(scaled) + 0.1]);\n",
    "\n",
    "print 'Mean:', np.mean(scaled)\n",
    "print 'Standard deviation:', np.std(scaled)"
   ]
  },
  {
   "cell_type": "markdown",
   "metadata": {},
   "source": [
    "Apply normalization to the entiry dataset."
   ]
  },
  {
   "cell_type": "code",
   "execution_count": 15,
   "metadata": {
    "collapsed": false
   },
   "outputs": [],
   "source": [
    "dataset = dataset.astype(np.float32) # convert to float\n",
    "dataset = (dataset - pixel_depth) / pixel_depth # normalize"
   ]
  },
  {
   "cell_type": "code",
   "execution_count": 17,
   "metadata": {
    "collapsed": false
   },
   "outputs": [
    {
     "name": "stdout",
     "output_type": "stream",
     "text": [
      "Label: [2]\n"
     ]
    },
    {
     "data": {
      "image/png": "[encoded data removed]",
      "text/plain": [
       "<matplotlib.figure.Figure at 0x1180f8550>"
      ]
     },
     "metadata": {},
     "output_type": "display_data"
    }
   ],
   "source": [
    "# display the normalized image\n",
    "_, ax1 = plt.subplots(1, 1)\n",
    "ax1.imshow(dataset[100], cmap=plt.cm.Greys);\n",
    "print \"Label:\", labels[100]"
   ]
  },
  {
   "cell_type": "markdown",
   "metadata": {},
   "source": [
    "### Creating training, validation and testing dataset"
   ]
  },
  {
   "cell_type": "markdown",
   "metadata": {},
   "source": [
    "Now we are in perfect conditions to create normalized well balanced training, validating and testing sets. "
   ]
  },
  {
   "cell_type": "code",
   "execution_count": 29,
   "metadata": {
    "collapsed": true
   },
   "outputs": [],
   "source": [
    "TESTING_DATASET_SIZE = 20000\n",
    "VALIDATING_DATASET_SIZE = 10000\n",
    "\n",
    "dataset, X_test, labels, y_test = train_test_split(dataset, labels, test_size=TESTING_DATASET_SIZE, \n",
    "                                                    random_state=42, stratify=labels)"
   ]
  },
  {
   "cell_type": "code",
   "execution_count": 30,
   "metadata": {
    "collapsed": false
   },
   "outputs": [],
   "source": [
    "X_train, X_valid, y_train, y_valid = train_test_split(dataset, labels, test_size=VALIDATING_DATASET_SIZE, \n",
    "                                                    random_state=42, stratify=labels)"
   ]
  },
  {
   "cell_type": "code",
   "execution_count": 31,
   "metadata": {
    "collapsed": false
   },
   "outputs": [
    {
     "name": "stdout",
     "output_type": "stream",
     "text": [
      "Training data shape: (50000, 32, 32, 3)\n",
      "Validating data shape: (10000, 32, 32, 3)\n",
      "Testing data shape: (20000, 32, 32, 3)\n"
     ]
    }
   ],
   "source": [
    "print \"Training data shape:\", X_train.shape\n",
    "print \"Validating data shape:\", X_valid.shape\n",
    "print \"Testing data shape:\", X_test.shape"
   ]
  },
  {
   "cell_type": "markdown",
   "metadata": {},
   "source": [
    "Save these dataset for later reuse."
   ]
  },
  {
   "cell_type": "code",
   "execution_count": 36,
   "metadata": {
    "collapsed": false
   },
   "outputs": [],
   "source": [
    "pickle_file = 'dataset.pickle'\n",
    "\n",
    "try:\n",
    "  f = open(pickle_file, 'wb')\n",
    "  save = {\n",
    "    'train_dataset': X_train,\n",
    "    'train_labels': y_train,\n",
    "    'valid_dataset': X_valid,\n",
    "    'valid_labels': y_valid,\n",
    "    'test_dataset': X_test,\n",
    "    'test_labels': y_test,\n",
    "    }\n",
    "  pickle.dump(save, f, pickle.HIGHEST_PROTOCOL)\n",
    "  f.close()\n",
    "except Exception as e:\n",
    "  print 'Unable to save data to', pickle_file, ':', e\n",
    "  raise"
   ]
  },
  {
   "cell_type": "code",
   "execution_count": 37,
   "metadata": {
    "collapsed": false
   },
   "outputs": [
    {
     "name": "stdout",
     "output_type": "stream",
     "text": [
      "Compressed pickle size: 983120452\n"
     ]
    }
   ],
   "source": [
    "statinfo = os.stat(pickle_file)\n",
    "print 'Compressed pickle size:', statinfo.st_size"
   ]
  },
  {
   "cell_type": "markdown",
   "metadata": {},
   "source": [
    "## Labels processing"
   ]
  },
  {
   "cell_type": "markdown",
   "metadata": {},
   "source": [
    "Machine Learning and Knowledge Discovery in Databases: European ..., Part 2\n",
    "\n",
    "https://books.google.com.br/books?id=dHNqCQAAQBAJ&pg=PA278&lpg=PA278&dq=MNIST+dataset+well+balanced&source=bl&ots=L3lX0nNyKn&sig=xg6Sj_0Xk5m3fI8sMdivM0ZWAqA&hl=en&sa=X&ved=0ahUKEwinpfzj_M3NAhVJOZAKHfEKAeAQ6AEIKzAC#v=onepage&q=MNIST%20dataset%20well%20balanced&f=false"
   ]
  },
  {
   "cell_type": "markdown",
   "metadata": {},
   "source": [
    "Let's remove some images to make the classes more well balanced."
   ]
  },
  {
   "cell_type": "markdown",
   "metadata": {
    "collapsed": false
   },
   "source": [
    "Let's move on to loading the full set of labels. As is typical in classification problems, we'll convert our input labels into a [1-hot](https://en.wikipedia.org/wiki/One-hot) encoding over a length 10 vector corresponding to 10 digits. The vector [0, 1, 0, 0, 0, 0, 0, 0, 0, 0], for example, would correspond to the digit 1."
   ]
  },
  {
   "cell_type": "code",
   "execution_count": 46,
   "metadata": {
    "collapsed": false
   },
   "outputs": [],
   "source": [
    "NUM_LABELS = 10\n",
    "\n",
    "def convert_to_one_hot(labels):\n",
    "    return (np.arange(NUM_LABELS) == labels[:, None]).astype(np.float32)\n",
    "\n",
    "# convert the image labels to onehot notation\n",
    "train_labels_h = convert_to_one_hot(train_labels)\n",
    "test_labels_h = convert_to_one_hot(test_labels)"
   ]
  },
  {
   "cell_type": "markdown",
   "metadata": {},
   "source": [
    "Let's check if out 1-hot encondings match our expectations"
   ]
  },
  {
   "cell_type": "code",
   "execution_count": 47,
   "metadata": {
    "collapsed": false
   },
   "outputs": [
    {
     "name": "stdout",
     "output_type": "stream",
     "text": [
      "Training labels shape (26032, 10)\n",
      "First label vector [ 0.  0.  0.  0.  0.  1.  0.  0.  0.  0.]\n",
      "Second label vector [ 0.  0.  1.  0.  0.  0.  0.  0.  0.  0.]\n"
     ]
    }
   ],
   "source": [
    "print 'Training labels shape', train_labels_h.shape\n",
    "print 'First label vector', train_labels_h[0]\n",
    "print 'Second label vector', train_labels_h[1]"
   ]
  },
  {
   "cell_type": "code",
   "execution_count": null,
   "metadata": {
    "collapsed": false
   },
   "outputs": [],
   "source": []
  }
 ],
 "metadata": {
  "kernelspec": {
   "display_name": "Python 2",
   "language": "python",
   "name": "python2"
  },
  "language_info": {
   "codemirror_mode": {
    "name": "ipython",
    "version": 2
   },
   "file_extension": ".py",
   "mimetype": "text/x-python",
   "name": "python",
   "nbconvert_exporter": "python",
   "pygments_lexer": "ipython2",
   "version": "2.7.11"
  }
 },
 "nbformat": 4,
 "nbformat_minor": 0
}
