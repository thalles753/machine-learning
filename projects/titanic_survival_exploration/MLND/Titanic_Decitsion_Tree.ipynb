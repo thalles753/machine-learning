{
 "cells": [
  {
   "cell_type": "markdown",
   "metadata": {
    "collapsed": true
   },
   "source": [
    "Create a decision tree classisfier with the titanic data set in order to explore the series of decisions that produces the best accuracy performance."
   ]
  },
  {
   "cell_type": "code",
   "execution_count": 6,
   "metadata": {
    "collapsed": true
   },
   "outputs": [],
   "source": [
    "# load the necessary libraries\n",
    "import numpy as np\n",
    "import pandas as pd\n",
    "from sklearn import tree\n",
    "from sklearn import cross_validation"
   ]
  },
  {
   "cell_type": "markdown",
   "metadata": {},
   "source": [
    "Load the titanic data frame and select only the meaningful features for further classification.\n",
    "1- Remove the following features ['Survived', 'Name', 'Ticket', 'Cabin', 'Ticket', 'Embarked']\n",
    "    -Convert the 'Sex' feature to integer values, because sklearn decision trees work only with integers\n",
    "        -Make 'Femele' = 0 and 'Male' = 1"
   ]
  },
  {
   "cell_type": "code",
   "execution_count": 35,
   "metadata": {
    "collapsed": false
   },
   "outputs": [],
   "source": [
    "data = pd.read_csv('titanic_data.csv', sep=',')\n",
    "\n",
    "# clean up NaN values\n",
    "data = data[np.isfinite(data['Age'])]\n",
    "\n",
    "# remove the 'Survived' feature since it is out targets\n",
    "target_names = ['Dead','Survived']\n",
    "targets = data['Survived']\n",
    "\n",
    "features = data.drop(['PassengerId', 'Survived', 'Name', 'Ticket', \n",
    "                      'Cabin', 'Ticket', 'Embarked', 'Fare', 'SibSp', 'Parch'], axis = 1)\n",
    "\n",
    "idx = features.loc[:, 'Sex'] == 'female'\n",
    "features.loc[idx, 'Sex'] = 0\n",
    "\n",
    "idx = features.loc[:, 'Sex'] == 'male'\n",
    "features.loc[idx, 'Sex'] = 1\n",
    "\n",
    "features_train, features_test, labels_train, labels_test = cross_validation.train_test_split(\n",
    "    features, targets, test_size=0.4, random_state=0)"
   ]
  },
  {
   "cell_type": "code",
   "execution_count": 36,
   "metadata": {
    "collapsed": true
   },
   "outputs": [],
   "source": [
    "def accuracy(truth, predictions):\n",
    "    if (len(truth == len(predictions))):\n",
    "        return (truth == predictions).mean()*100\n",
    "    else:\n",
    "        print \"The size of the datasets does not match\""
   ]
  },
  {
   "cell_type": "code",
   "execution_count": 37,
   "metadata": {
    "collapsed": false
   },
   "outputs": [
    {
     "name": "stdout",
     "output_type": "stream",
     "text": [
      "Accuracy: 77.6223776224 %\n"
     ]
    }
   ],
   "source": [
    "# create a decision tree classifier\n",
    "clf = tree.DecisionTreeClassifier()\n",
    "clf.fit(features_train, labels_train)\n",
    "\n",
    "predictions = clf.predict(features_test)\n",
    "\n",
    "print \"Accuracy:\", accuracy(labels_test, predictions),\"%\""
   ]
  },
  {
   "cell_type": "code",
   "execution_count": 38,
   "metadata": {
    "collapsed": false
   },
   "outputs": [
    {
     "data": {
      "text/plain": [
       "True"
      ]
     },
     "execution_count": 38,
     "metadata": {},
     "output_type": "execute_result"
    }
   ],
   "source": [
    "from sklearn.externals.six import StringIO  \n",
    "import pydot\n",
    "\n",
    "dot_data = StringIO()  \n",
    "tree.export_graphviz(clf, out_file=dot_data,  \n",
    "                         feature_names=feature_names,  \n",
    "                         class_names=target_names,  \n",
    "                         filled=True, rounded=True,  \n",
    "                         impurity=False)  \n",
    "graph = pydot.graph_from_dot_data(dot_data.getvalue())  \n",
    "graph.write_pdf(\"titanic.pdf\") "
   ]
  },
  {
   "cell_type": "code",
   "execution_count": null,
   "metadata": {
    "collapsed": true
   },
   "outputs": [],
   "source": []
  }
 ],
 "metadata": {
  "kernelspec": {
   "display_name": "Python 2",
   "language": "python",
   "name": "python2"
  },
  "language_info": {
   "codemirror_mode": {
    "name": "ipython",
    "version": 2
   },
   "file_extension": ".py",
   "mimetype": "text/x-python",
   "name": "python",
   "nbconvert_exporter": "python",
   "pygments_lexer": "ipython2",
   "version": "2.7.11"
  }
 },
 "nbformat": 4,
 "nbformat_minor": 0
}
